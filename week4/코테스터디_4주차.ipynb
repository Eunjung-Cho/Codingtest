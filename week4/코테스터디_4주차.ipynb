{
  "nbformat": 4,
  "nbformat_minor": 0,
  "metadata": {
    "colab": {
      "name": "코테스터디_4주차.ipynb",
      "provenance": [],
      "authorship_tag": "ABX9TyPFZpfovQCBABsp9FsPoJJA",
      "include_colab_link": true
    },
    "kernelspec": {
      "name": "python3",
      "display_name": "Python 3"
    },
    "language_info": {
      "name": "python"
    }
  },
  "cells": [
    {
      "cell_type": "markdown",
      "metadata": {
        "id": "view-in-github",
        "colab_type": "text"
      },
      "source": [
        "<a href=\"https://colab.research.google.com/github/Eunjung-Cho/Codingtest/blob/main/week4/%EC%BD%94%ED%85%8C%EC%8A%A4%ED%84%B0%EB%94%94_4%EC%A3%BC%EC%B0%A8.ipynb\" target=\"_parent\"><img src=\"https://colab.research.google.com/assets/colab-badge.svg\" alt=\"Open In Colab\"/></a>"
      ]
    },
    {
      "cell_type": "markdown",
      "metadata": {
        "id": "fFxAKGq-9mHi"
      },
      "source": [
        "## 13. 펠린드롬 연결리스트\n",
        "- 연결리스트가 팰린드롬 구조인지 판별하기"
      ]
    },
    {
      "cell_type": "code",
      "metadata": {
        "id": "VjTSJios_0Cd"
      },
      "source": [
        "# 단일 연결리스트 노드 생성\n",
        "class ListNode(object):\n",
        "  def __init__(self, x):\n",
        "    self.val = x\n",
        "    self.next = None"
      ],
      "execution_count": 2,
      "outputs": []
    },
    {
      "cell_type": "markdown",
      "metadata": {
        "id": "DLYPoAja-MXO"
      },
      "source": [
        "## 풀이1) 리스트 변환"
      ]
    },
    {
      "cell_type": "code",
      "metadata": {
        "id": "7AEAOJMs-GKi"
      },
      "source": [
        "class Solution:\n",
        "  def isPalindrome(self, head: ListNode) -> bool:\n",
        "    q: List = []\n",
        "\n",
        "    if not head:\n",
        "      return True\n",
        "    node = head\n",
        "\n",
        "    #리스트 변환\n",
        "    while node is not None:\n",
        "      q.append(node.val)\n",
        "      node = node.next\n",
        "\n",
        "    #팰린드롬 판별\n",
        "    while len(q) >1:\n",
        "      if q.pop(0) != q.pop():\n",
        "        return False\n",
        "\n",
        "    return True"
      ],
      "execution_count": 15,
      "outputs": []
    },
    {
      "cell_type": "code",
      "metadata": {
        "id": "bStM4-p_-2BP"
      },
      "source": [
        "head = ListNode(1)\n",
        "head.next = ListNode(2)"
      ],
      "execution_count": 6,
      "outputs": []
    },
    {
      "cell_type": "code",
      "metadata": {
        "colab": {
          "base_uri": "https://localhost:8080/"
        },
        "id": "S2KDqiTLDDOl",
        "outputId": "64725a0f-5e9c-460f-c222-7a9d2ba65407"
      },
      "source": [
        "Solution().isPalindrome(head)"
      ],
      "execution_count": 17,
      "outputs": [
        {
          "output_type": "execute_result",
          "data": {
            "text/plain": [
              "False"
            ]
          },
          "metadata": {
            "tags": []
          },
          "execution_count": 17
        }
      ]
    },
    {
      "cell_type": "markdown",
      "metadata": {
        "id": "lHgoSYGpGUPz"
      },
      "source": [
        "# 14. 두 정렬 리스트의 병합\n",
        "- 정렬되어 있는 두 연결 리스트를 합치기"
      ]
    },
    {
      "cell_type": "markdown",
      "metadata": {
        "id": "x_JrX0oEGn5y"
      },
      "source": [
        "## 풀이1) 재귀 구조로 연결"
      ]
    },
    {
      "cell_type": "code",
      "metadata": {
        "id": "TzBaBPiyGdU0"
      },
      "source": [
        "class Solution:\n",
        "  def margeTwoLists(self, l1: ListNode, l2: ListNode) -> ListNode:\n",
        "    if (not l1) or (l2 and l1.val > l2.val): # l1값 > ㅣ2값  -> not l1 -> and -> or : 실행순서\n",
        "      l1, l2 = l2, l1 # 변수 스왑\n",
        "    if l1:\n",
        "      l1.next = self.margeTwoLists(l1.next, l2) # 연결리스트가 계속 스왑될 수 있게 한다.\n",
        "    return l1"
      ],
      "execution_count": 19,
      "outputs": []
    },
    {
      "cell_type": "code",
      "metadata": {
        "id": "9S-3A2FsK_HG"
      },
      "source": [
        "def print_input(l1: ListNode, l2:ListNode):\n",
        "\n",
        "    print(\"l1 : \", end=\"\")\n",
        "    while l1 is not None:\n",
        "        print(f'{l1.val} -> ', end=\"\")\n",
        "        l1 = l1.next\n",
        "    print()\n",
        "\n",
        "    print(\"l2 : \", end=\"\")\n",
        "    while l2 is not None:\n",
        "        print(f'{l2.val} -> ', end=\"\")\n",
        "        l2 = l2.next\n",
        "    print()"
      ],
      "execution_count": 24,
      "outputs": []
    },
    {
      "cell_type": "code",
      "metadata": {
        "id": "-PwJDKuBKFrR"
      },
      "source": [
        "l1 = ListNode(1)\n",
        "l1.next = ListNode(2)\n",
        "l1.next.next = ListNode(4)\n",
        "\n",
        "l2= ListNode(1)\n",
        "l2.next = ListNode(3)\n",
        "l2.next.next = ListNode(4)"
      ],
      "execution_count": 27,
      "outputs": []
    },
    {
      "cell_type": "code",
      "metadata": {
        "colab": {
          "base_uri": "https://localhost:8080/"
        },
        "id": "I-3r3L2PKfOB",
        "outputId": "105568ab-8789-4282-f099-4148ca8a3b78"
      },
      "source": [
        "Solution().margeTwoLists(l1,l2)"
      ],
      "execution_count": 28,
      "outputs": [
        {
          "output_type": "execute_result",
          "data": {
            "text/plain": [
              "<__main__.ListNode at 0x7f14c3535150>"
            ]
          },
          "metadata": {
            "tags": []
          },
          "execution_count": 28
        }
      ]
    },
    {
      "cell_type": "code",
      "metadata": {
        "colab": {
          "base_uri": "https://localhost:8080/"
        },
        "id": "ZKHK6plULiaB",
        "outputId": "3e96fa9a-d291-4afe-a087-2652033595c7"
      },
      "source": [
        "print_input(l1, l2)"
      ],
      "execution_count": 29,
      "outputs": [
        {
          "output_type": "stream",
          "text": [
            "l1 : 1 -> 1 -> 2 -> 3 -> 4 -> 4 -> \n",
            "l2 : 1 -> 2 -> 3 -> 4 -> 4 -> \n"
          ],
          "name": "stdout"
        }
      ]
    },
    {
      "cell_type": "markdown",
      "metadata": {
        "id": "jBMFPs8ROehj"
      },
      "source": [
        "# 15. 역순 연결 리스트\n",
        "- 연결리스트 뒤집기 -> 실무에서도 자주 쓰인다. \n",
        "- Recursive (재귀) \n",
        "- Iterative (반복) 구조로 풀이"
      ]
    },
    {
      "cell_type": "markdown",
      "metadata": {
        "id": "9_KDth1LOmY5"
      },
      "source": [
        "## 풀이1) 재귀 구조로 뒤집기\n"
      ]
    },
    {
      "cell_type": "code",
      "metadata": {
        "id": "ufj0Eu1hV8VK"
      },
      "source": [
        "def print_answer(head1: ListNode):\n",
        "\n",
        "    print(\"head1 : \", end=\"\")\n",
        "    while head1 is not None:\n",
        "        print(f'{head1.val} -> ', end=\"\")\n",
        "        head1 = head1.next\n",
        "    print()"
      ],
      "execution_count": 55,
      "outputs": []
    },
    {
      "cell_type": "code",
      "metadata": {
        "id": "jXBHG7T4OiFc"
      },
      "source": [
        "class Solution:\n",
        "  def reverseList(self, head1: ListNode) -> ListNode:\n",
        "    #노드 next와 현재 노드를 파라미터로 지정한 함수를 계속해서 재귀로 호출\n",
        "    def reverse(node: ListNode, prev: ListNode = None): #노드 next에 이전 prev리스트를 계속 연결해주면서 node가 None이 될 때까지 재귀 호출\n",
        "      if not node:\n",
        "        return prev\n",
        "      next, node.next = node.next, prev\n",
        "      return reverse(next, node)\n",
        "\n",
        "    return reverse(head1)"
      ],
      "execution_count": 60,
      "outputs": []
    },
    {
      "cell_type": "code",
      "metadata": {
        "id": "W10z8_I4PouE"
      },
      "source": [
        "head1 = ListNode(1)\n",
        "head1.next = ListNode(2)\n",
        "head1.next.next = ListNode(3)\n",
        "head1.next.next.next = ListNode(4)\n",
        "head1.next.next.next.next = ListNode(5)"
      ],
      "execution_count": 61,
      "outputs": []
    },
    {
      "cell_type": "code",
      "metadata": {
        "id": "IylZTUweQDza"
      },
      "source": [
        "a= Solution().reverseList(head1)"
      ],
      "execution_count": 62,
      "outputs": []
    },
    {
      "cell_type": "code",
      "metadata": {
        "colab": {
          "base_uri": "https://localhost:8080/"
        },
        "id": "29FVM7gqZoBX",
        "outputId": "81741105-c940-4499-c51f-3b125bb599fc"
      },
      "source": [
        "print_answer(a)"
      ],
      "execution_count": 63,
      "outputs": [
        {
          "output_type": "stream",
          "text": [
            "head1 : 5 -> 4 -> 3 -> 2 -> 1 -> \n"
          ],
          "name": "stdout"
        }
      ]
    }
  ]
}