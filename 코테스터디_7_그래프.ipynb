{
  "nbformat": 4,
  "nbformat_minor": 0,
  "metadata": {
    "colab": {
      "name": "코테스터디_7_그래프.ipynb",
      "provenance": [],
      "collapsed_sections": [],
      "authorship_tag": "ABX9TyO/r05F8PlspeVLrKoa4/h4",
      "include_colab_link": true
    },
    "kernelspec": {
      "name": "python3",
      "display_name": "Python 3"
    },
    "language_info": {
      "name": "python"
    }
  },
  "cells": [
    {
      "cell_type": "markdown",
      "metadata": {
        "id": "view-in-github",
        "colab_type": "text"
      },
      "source": [
        "<a href=\"https://colab.research.google.com/github/Eunjung-Cho/Codingtest/blob/main/%EC%BD%94%ED%85%8C%EC%8A%A4%ED%84%B0%EB%94%94_7_%EA%B7%B8%EB%9E%98%ED%94%84.ipynb\" target=\"_parent\"><img src=\"https://colab.research.google.com/assets/colab-badge.svg\" alt=\"Open In Colab\"/></a>"
      ]
    },
    {
      "cell_type": "markdown",
      "metadata": {
        "id": "8T8hPigPUY9x"
      },
      "source": [
        "## 32번 섬의 개수"
      ]
    },
    {
      "cell_type": "markdown",
      "metadata": {
        "id": "ItbMj3CGUs0A"
      },
      "source": [
        "### 입력값"
      ]
    },
    {
      "cell_type": "code",
      "metadata": {
        "id": "4HgM4ix8SF-c"
      },
      "source": [
        "grid1= [[\"1\", \"1\", \"1\", \"1\", \"0\"],\n",
        "        [\"1\", \"1\", \"0\", \"1\", \"0\"],\n",
        "        [\"1\", \"1\", \"0\",\"0\", \"0\"],\n",
        "        [\"0\", \"0\", \"0\", \"0\", \"0\"]]\n",
        "\n",
        "grid2 = [[\"1\", \"1\", \"1\", \"1\", \"0\"],\n",
        "        [\"1\", \"1\", \"0\", \"1\", \"0\"],\n",
        "        [\"1\", \"1\", \"0\",\"0\", \"0\"],]\n",
        "\n",
        "grid3 = [[\"1\", \"1\", \"0\", \"0\", \"0\"],\n",
        "        [\"1\", \"1\", \"0\", \"0\", \"0\"],\n",
        "        [\"0\", \"0\", \"1\",\"0\", \"0\"],\n",
        "        [\"0\", \"0\", \"0\", \"1\", \"1\"]]"
      ],
      "execution_count": null,
      "outputs": []
    },
    {
      "cell_type": "markdown",
      "metadata": {
        "id": "j3dIKIUvcnw5"
      },
      "source": [
        "#### 행 길이(개수)"
      ]
    },
    {
      "cell_type": "code",
      "metadata": {
        "colab": {
          "base_uri": "https://localhost:8080/"
        },
        "id": "gmxvjATjSXmt",
        "outputId": "bc7379ae-82fb-4e8b-f813-261a138490f1"
      },
      "source": [
        "print(len(grid1))\n",
        "print(len(grid2))"
      ],
      "execution_count": null,
      "outputs": [
        {
          "output_type": "stream",
          "text": [
            "4\n",
            "3\n"
          ],
          "name": "stdout"
        }
      ]
    },
    {
      "cell_type": "markdown",
      "metadata": {
        "id": "U-wx1P4LctTm"
      },
      "source": [
        "#### 열 길이(개수)"
      ]
    },
    {
      "cell_type": "code",
      "metadata": {
        "colab": {
          "base_uri": "https://localhost:8080/"
        },
        "id": "YH-Z5R5aTqUH",
        "outputId": "e8b3a606-956e-48ec-fff7-f91e6a900e9f"
      },
      "source": [
        "print(len(grid1[0]))"
      ],
      "execution_count": null,
      "outputs": [
        {
          "output_type": "stream",
          "text": [
            "5\n"
          ],
          "name": "stdout"
        }
      ]
    },
    {
      "cell_type": "markdown",
      "metadata": {
        "id": "7EVZeyHZUwg_"
      },
      "source": [
        "## 전체 코드"
      ]
    },
    {
      "cell_type": "code",
      "metadata": {
        "id": "TcuV59wuU4CZ"
      },
      "source": [
        "from typing import List\n",
        "\n",
        "class Solution:\n",
        "  def numIslands(self, grid: List[List[str]]) -> int:\n",
        "    def dfs(i,j):\n",
        "      # 더이상 땅이 아닌 경우에 종료\n",
        "      if i<0 or i>= len(grid) or j<0 or j>= len(grid[0]) or grid[i][j] != '1':\n",
        "        return  # 이 부분이 백트래킹 return 뒤에 아무것도 쓰지 않는다. \n",
        "      grid[i][j] = '0'\n",
        "      dfs(i+1,j)\n",
        "      dfs(i-1,j)\n",
        "      dfs(i,j+1)\n",
        "      dfs(i,j-1)\n",
        "    count = 0    \n",
        "\n",
        "    for i in range(len(grid)):\n",
        "      for j in range(len(grid[0])):\n",
        "        if grid[i][j] == '1':\n",
        "            dfs(i,j)\n",
        "            #모든 육지 탐색 후 카운트 1 증가\n",
        "            count += 1\n",
        "    return count"
      ],
      "execution_count": null,
      "outputs": []
    },
    {
      "cell_type": "code",
      "metadata": {
        "colab": {
          "base_uri": "https://localhost:8080/"
        },
        "id": "DFr7lTWYWmiU",
        "outputId": "66204850-d26a-4c67-bd40-abd134c9d0c6"
      },
      "source": [
        "print(Solution().numIslands(grid1))"
      ],
      "execution_count": null,
      "outputs": [
        {
          "output_type": "stream",
          "text": [
            "1\n"
          ],
          "name": "stdout"
        }
      ]
    },
    {
      "cell_type": "code",
      "metadata": {
        "colab": {
          "base_uri": "https://localhost:8080/"
        },
        "id": "xV4_kR6hXZL8",
        "outputId": "1009de0c-34e4-4c95-b161-420e8acfcc8d"
      },
      "source": [
        "print(Solution().numIslands(grid3))"
      ],
      "execution_count": null,
      "outputs": [
        {
          "output_type": "stream",
          "text": [
            "3\n"
          ],
          "name": "stdout"
        }
      ]
    },
    {
      "cell_type": "code",
      "metadata": {
        "id": "saRg1S9pUv5l"
      },
      "source": [
        "class Solution2:\n",
        "  def numIslands2(self, grid: List[List[str]]) -> int:\n",
        "        count = 0\n",
        "        for i in range(len(grid)):\n",
        "            for j in range(len(grid[0])):\n",
        "                if grid[i][j] == '1':\n",
        "                    print(i,j)\n",
        "                    self.dfs2(grid,i,j)\n",
        "                    count  += 1\n",
        "        #print(grid)\n",
        "        return count\n",
        "    # use a helper function to flip connected '1's to 0\n",
        "  def dfs2(self,grid,i,j):\n",
        "    grid[i][j] = 0\n",
        "    for dr,dc in (1,0), (-1,0), (0,-1), (0,1):\n",
        "      r = i + dr\n",
        "      c = j + dc\n",
        "      if 0 <= r < len(grid) and 0 <= c < len(grid[0]) and grid[r][c]=='1':\n",
        "        self.dfs2(grid,r,c)"
      ],
      "execution_count": null,
      "outputs": []
    },
    {
      "cell_type": "code",
      "metadata": {
        "colab": {
          "base_uri": "https://localhost:8080/"
        },
        "id": "5uOvCV5Wdf7L",
        "outputId": "b61af1de-0729-46b1-c510-e8925c7bfc44"
      },
      "source": [
        "print(Solution2().numIslands2(grid3))"
      ],
      "execution_count": null,
      "outputs": [
        {
          "output_type": "stream",
          "text": [
            "0 0\n",
            "2 2\n",
            "3 3\n",
            "3\n"
          ],
          "name": "stdout"
        }
      ]
    }
  ]
}