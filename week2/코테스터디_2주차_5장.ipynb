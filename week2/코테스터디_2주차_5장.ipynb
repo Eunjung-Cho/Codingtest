{
  "nbformat": 4,
  "nbformat_minor": 0,
  "metadata": {
    "colab": {
      "name": "코테스터디_2주차_5장.ipynb",
      "provenance": [],
      "authorship_tag": "ABX9TyMPuUbpma9bRtCxRkuNIezG",
      "include_colab_link": true
    },
    "kernelspec": {
      "name": "python3",
      "display_name": "Python 3"
    },
    "language_info": {
      "name": "python"
    }
  },
  "cells": [
    {
      "cell_type": "markdown",
      "metadata": {
        "id": "view-in-github",
        "colab_type": "text"
      },
      "source": [
        "<a href=\"https://colab.research.google.com/github/Eunjung-Cho/Codingtest/blob/main/%EC%BD%94%ED%85%8C%EC%8A%A4%ED%84%B0%EB%94%94_2%EC%A3%BC%EC%B0%A8_5%EC%9E%A5.ipynb\" target=\"_parent\"><img src=\"https://colab.research.google.com/assets/colab-badge.svg\" alt=\"Open In Colab\"/></a>"
      ]
    },
    {
      "cell_type": "markdown",
      "metadata": {
        "id": "jncXLhUYDv3Y"
      },
      "source": [
        "# 5장: 리스트, 딕셔너리\n",
        "\n"
      ]
    },
    {
      "cell_type": "markdown",
      "metadata": {
        "id": "zPwr-MFCHTwW"
      },
      "source": [
        "## 리스트\n",
        "\n",
        "- 순서대로 저장하는 시퀀스이자 변경가능한 목록\n",
        "- 입력순서가 유지, 내부적으로는 동적배열\n",
        "- 스택과 큐에서 사용 가능한 모든 연산을 함께 제공\n",
        "- 파이썬은 객체형 언어이기 때문에 모두 제각각인 자료형을 단일 리스트에 넣는 것이 가능하다."
      ]
    },
    {
      "cell_type": "markdown",
      "metadata": {
        "id": "gvd78EW6HeU3"
      },
      "source": [
        "### 리스트 선언 및 값 집어넣기"
      ]
    },
    {
      "cell_type": "code",
      "metadata": {
        "id": "kn61watfDoxs"
      },
      "source": [
        "# 리스트 선언\n",
        "a = list()\n",
        "a = [] "
      ],
      "execution_count": null,
      "outputs": []
    },
    {
      "cell_type": "code",
      "metadata": {
        "id": "wCm2y8GrFZ1T"
      },
      "source": [
        "#리스트 값 집어넣기\n",
        "a = [1,2,3]"
      ],
      "execution_count": null,
      "outputs": []
    },
    {
      "cell_type": "code",
      "metadata": {
        "id": "6viPDO8PFjdy"
      },
      "source": [
        "#리스트 값 집어넣기\n",
        "a.append(4)\n",
        "a.append('안녕')\n",
        "a.append(True)"
      ],
      "execution_count": null,
      "outputs": []
    },
    {
      "cell_type": "code",
      "metadata": {
        "id": "oXuu8J4ZFmpv"
      },
      "source": [
        "#특정 위치의 인덱스를 지정해 요소 추가하기 \n",
        "a.insert(3,5)"
      ],
      "execution_count": null,
      "outputs": []
    },
    {
      "cell_type": "markdown",
      "metadata": {
        "id": "T67K4vbgHgnp"
      },
      "source": [
        "### 리스트 값 꺼내기, 예외처리"
      ]
    },
    {
      "cell_type": "code",
      "metadata": {
        "id": "ZApXSL52Fvqy"
      },
      "source": [
        "#리스트 값 꺼내기\n",
        "a[3] # 대괄호 안에 꺼내오고 싶은 값의 인덱스를 써주기\n",
        "a[1:3] # 인덱스 1부터 3 전까지\n",
        "a[:3] # 처음부터 인덱스 3의 전까지 모두\n",
        "a[4:] # 인덱스4부터 끝까지 모두\n",
        "a[1:4:2] #인덱스 2부터 4의 전까지 2칸씩 건너서 뽑기"
      ],
      "execution_count": null,
      "outputs": []
    },
    {
      "cell_type": "code",
      "metadata": {
        "id": "gRemTShDG8nm"
      },
      "source": [
        "a[9] # 존개하지 않는 인덱스일 경우 IndexError\n",
        "\n",
        "#처리하는 방법 - try구문으로 에러에 대한 예외 처리\n",
        "try:\n",
        "  print(a[9])\n",
        "except IndexError:\n",
        "  print('존재하지 않는 인덱스')"
      ],
      "execution_count": null,
      "outputs": []
    },
    {
      "cell_type": "markdown",
      "metadata": {
        "id": "xCOaMcLcHkhN"
      },
      "source": [
        "### 리스트 삭제하기\n",
        "\n",
        "- 인덱스로 삭제하기 -> del 키워드\n",
        "- 값으로 삭제하기 -> remove 함수"
      ]
    },
    {
      "cell_type": "code",
      "metadata": {
        "id": "-SwD253vHvII"
      },
      "source": [
        "a"
      ],
      "execution_count": null,
      "outputs": []
    },
    {
      "cell_type": "code",
      "metadata": {
        "id": "Pxgd5kPNHqD9"
      },
      "source": [
        "# del 키워드 사용\n",
        "del a[1] # 인덱스 1에 해당 하는 값이 사라짐"
      ],
      "execution_count": null,
      "outputs": []
    },
    {
      "cell_type": "code",
      "metadata": {
        "id": "Z8s74fPXHzwq"
      },
      "source": [
        "# remove 함수 사용 -> 값으로 삭제\n",
        "a.remove(3) # 3이라는 값이 사라짐"
      ],
      "execution_count": null,
      "outputs": []
    },
    {
      "cell_type": "markdown",
      "metadata": {
        "id": "zOVy0UTeHXX1"
      },
      "source": [
        "## 딕셔너리\n",
        "\n",
        "- 키/값 구조로 이루어져있다. \n",
        "- 입력순서가 유지되며 내부적으로는 해시 테이블로 구현되어 있다. \n",
        "- 대부분의 연산이 O(1)이다."
      ]
    },
    {
      "cell_type": "markdown",
      "metadata": {
        "id": "A4Ut7fIJIsum"
      },
      "source": [
        "### 딕셔너리 선언"
      ]
    },
    {
      "cell_type": "code",
      "metadata": {
        "id": "rXxLWtahIsSD"
      },
      "source": [
        "b = {'key1':'value1', 'key2':'value2'}\n",
        "b['key3'] = 'value3'"
      ],
      "execution_count": null,
      "outputs": []
    },
    {
      "cell_type": "markdown",
      "metadata": {
        "id": "qwKLyePZI-V_"
      },
      "source": [
        "### 딕셔너리 예외처리\n",
        "- 존재하지 않는 키를 입력하면 KeyError 발생"
      ]
    },
    {
      "cell_type": "code",
      "metadata": {
        "id": "NgJq2QauJCOZ"
      },
      "source": [
        "try:\n",
        "  print(b['key4'])\n",
        "except KeyError:\n",
        "  print('존재하지 않는 키')"
      ],
      "execution_count": null,
      "outputs": []
    },
    {
      "cell_type": "markdown",
      "metadata": {
        "id": "r38hxKkgJP9p"
      },
      "source": [
        "### 딕셔너리 값 존재하는지 확인"
      ]
    },
    {
      "cell_type": "code",
      "metadata": {
        "id": "FBWv_hoCJTNX"
      },
      "source": [
        "'key4' in b"
      ],
      "execution_count": null,
      "outputs": []
    },
    {
      "cell_type": "code",
      "metadata": {
        "id": "ActsKC4LJdHu"
      },
      "source": [
        "# if문 사용\n",
        "if 'key4' in b:\n",
        "  print('존재하는 키')\n",
        "else:\n",
        "  print('존재하지 않는 키')"
      ],
      "execution_count": null,
      "outputs": []
    },
    {
      "cell_type": "code",
      "metadata": {
        "id": "9OGqKqj2Jk_4"
      },
      "source": [
        "# for문의 items 메소드 활용\n",
        "for k,v in a.items():\n",
        "  print(k,v)"
      ],
      "execution_count": null,
      "outputs": []
    },
    {
      "cell_type": "markdown",
      "metadata": {
        "id": "P5XXWjtvJvpU"
      },
      "source": [
        "### 딕셔너리 삭제하기"
      ]
    },
    {
      "cell_type": "code",
      "metadata": {
        "id": "TlXrvSaMJxKw"
      },
      "source": [
        "del b['key1']\n",
        "b"
      ],
      "execution_count": null,
      "outputs": []
    },
    {
      "cell_type": "markdown",
      "metadata": {
        "id": "a4sTVH4RJ1N2"
      },
      "source": [
        "### 딕셔너리 모듈\n"
      ]
    },
    {
      "cell_type": "markdown",
      "metadata": {
        "id": "UhpkTzP_J9W0"
      },
      "source": [
        "#### defsultdict 객체\n",
        "\n",
        "- 에러없이 바로 +1 연산 가능\n",
        "- 디폴트인 0 기준으로 자동생성 후 여기에 1을 더함 -> 최종적으로 1이 만들어짐"
      ]
    },
    {
      "cell_type": "code",
      "metadata": {
        "id": "xYROM-HBJ7yc"
      },
      "source": [
        "# A,B 키값에 5,4할당하기\n",
        "b = collections.defsultdict(int)\n",
        "b['A']=5\n",
        "b['B']=4\n",
        "b"
      ],
      "execution_count": null,
      "outputs": []
    },
    {
      "cell_type": "code",
      "metadata": {
        "id": "galK7paBKnUL"
      },
      "source": [
        "# defsultdict 객체에 새로운 key 넣어보기\n",
        "b['C'] += 1\n",
        "b"
      ],
      "execution_count": null,
      "outputs": []
    },
    {
      "cell_type": "markdown",
      "metadata": {
        "id": "UcsgdughK-jM"
      },
      "source": [
        "#### Counter 객체\n",
        "\n",
        "- 키에는 아이템 값, 값에는 해당 아이템의 개수가 들어간 딕셔너리를 생성\n",
        "- 개수를 자동으로 계산해주기 때문에 편리"
      ]
    },
    {
      "cell_type": "code",
      "metadata": {
        "id": "EIP-pvimLAGL"
      },
      "source": [
        "a1 = [1,2,3,4,5,5,5,6,6]\n",
        "b1 = collections.Counter(a1)\n",
        "b1"
      ],
      "execution_count": null,
      "outputs": []
    },
    {
      "cell_type": "code",
      "metadata": {
        "id": "DHvRMSskLV_s"
      },
      "source": [
        "# Counter 객체에서 가장 빈도 수가 높은 요소 추출하기 -> most_common() 사용\n",
        "b1.most_common(2) # 가장 빈도가 높은 2개의 요소 추출"
      ],
      "execution_count": null,
      "outputs": []
    },
    {
      "cell_type": "markdown",
      "metadata": {
        "id": "SKM-mbNfLlZS"
      },
      "source": [
        "#### OrderedDict 객체\n",
        "- 파이썬 3.6 이하의 경우 입력순서가 유지되지 않음\n",
        "- 이때 OrderedDict객체로 입력 순서 유지를 할 수 있음\n",
        "- 파이썬 3.7 이상은 해당 x "
      ]
    },
    {
      "cell_type": "code",
      "metadata": {
        "id": "G3mOhtzVL3ca"
      },
      "source": [
        "collection.OrderedDict({'banana':3, 'apple': 4, 'pear': 1, 'orange':2})"
      ],
      "execution_count": null,
      "outputs": []
    },
    {
      "cell_type": "markdown",
      "metadata": {
        "id": "P92l0RwnMKxL"
      },
      "source": [
        "## (+)타입선언 문법"
      ]
    },
    {
      "cell_type": "code",
      "metadata": {
        "id": "NXbv4WjLMPl_"
      },
      "source": [
        "type([]) # 리스트\n",
        "type(()) # 튜플\n",
        "type({}) # 딕셔너리\n",
        "type({1}) # 집합"
      ],
      "execution_count": null,
      "outputs": []
    }
  ]
}
