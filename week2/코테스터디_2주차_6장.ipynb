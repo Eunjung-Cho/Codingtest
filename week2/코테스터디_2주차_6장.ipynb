{
  "nbformat": 4,
  "nbformat_minor": 0,
  "metadata": {
    "colab": {
      "name": "코테스터디_2주차_6장.ipynb",
      "provenance": [],
      "toc_visible": true,
      "authorship_tag": "ABX9TyNY82Xvle/TL2cHpIgUAh6M",
      "include_colab_link": true
    },
    "kernelspec": {
      "name": "python3",
      "display_name": "Python 3"
    },
    "language_info": {
      "name": "python"
    }
  },
  "cells": [
    {
      "cell_type": "markdown",
      "metadata": {
        "id": "view-in-github",
        "colab_type": "text"
      },
      "source": [
        "<a href=\"https://colab.research.google.com/github/Eunjung-Cho/Codingtest/blob/main/%EC%BD%94%ED%85%8C%EC%8A%A4%ED%84%B0%EB%94%94_2%EC%A3%BC%EC%B0%A8_6%EC%9E%A5.ipynb\" target=\"_parent\"><img src=\"https://colab.research.google.com/assets/colab-badge.svg\" alt=\"Open In Colab\"/></a>"
      ]
    },
    {
      "cell_type": "markdown",
      "metadata": {
        "id": "Nz3GdAD_92Or"
      },
      "source": [
        "# 6장 문자열 조작 (String Manipulation)\n",
        "\n",
        "- 문자열을 변경하거나 분리하는 등의 여러 과정을 말한다. \n",
        "- 코테에서 빈번하게 출제되는 주제 중 하나"
      ]
    },
    {
      "cell_type": "markdown",
      "metadata": {
        "id": "5nBo9ZsUAWJU"
      },
      "source": [
        "## Q1. 유효한 펠린드롬 \n",
        ": 주어진 문자열이 펠린드롬(앞뒤가 똑같은 단어나 문장)인지 확인 . \n",
        "- 조건: 대소문자 구분x, 영문자와 숫자만을 대상"
      ]
    },
    {
      "cell_type": "markdown",
      "metadata": {
        "id": "gIEGeCZ5BJnL"
      },
      "source": [
        "### 풀이1) 리스트로 변환"
      ]
    },
    {
      "cell_type": "code",
      "metadata": {
        "id": "-VK0seIuBMjv"
      },
      "source": [
        "def is_palindrome(self, s:str) -> bool:\n",
        "  strs = []\n",
        "  for char in s:\n",
        "    if char.isalnum():\n",
        "      strs.append(char.lower())\n",
        "\n",
        "# isalnum() : 영문자, 숫자 여부를 판별하는 함수\n",
        "  while len(strs) > 1: #문자열 리스트에 2개이상으로 문자나 숫자\n",
        "    if strs.pop(0) != strs.pop(): # 문자열 리스트 맨앞에서 꺼내온 값이 맨뒷부분과 같지 않으면\n",
        "      return False #False 반환\n",
        "  return True \n"
      ],
      "execution_count": 10,
      "outputs": []
    },
    {
      "cell_type": "markdown",
      "metadata": {
        "id": "txnWq_kPCehS"
      },
      "source": [
        "### 풀이2) 데크 자료형을 이용한 최적화 \n",
        "\n",
        "- 코드 3번째 줄로 인해 위에보다 풀이가 5배 더 빠름"
      ]
    },
    {
      "cell_type": "code",
      "metadata": {
        "id": "tskqfFmdeoAY"
      },
      "source": [
        "def is_palindrome(self, s:str) -> bool:\n",
        "  #자료형 데크로 선언\n",
        "  strs: Deque = collections.deque() \n",
        "\n",
        "  for char in s:\n",
        "    if char.isalnum():\n",
        "      strs.append(char.lower ())\n",
        "\n",
        "  while len(strs) > 1:\n",
        "    if strs.popleft() != strs.pop():\n",
        "      return False\n",
        "\n",
        "  return True"
      ],
      "execution_count": null,
      "outputs": []
    },
    {
      "cell_type": "markdown",
      "metadata": {
        "id": "h7KP2q_FfK8W"
      },
      "source": [
        "### 풀이3) 슬라이싱 사용\n",
        "\n",
        "- 위의 풀이보다 2배정도 빠르다\n",
        "- 대부분의 문자열 작업은 슬라이싱이 가장 빠르다"
      ]
    },
    {
      "cell_type": "code",
      "metadata": {
        "id": "f3cSedUGfM6Q"
      },
      "source": [
        "def is_palindrome(self, s:str) -> bool:\n",
        "  s = s.lower()\n",
        "  # 정규식으로 불필요한 문자 필터링\n",
        "  s = re.sub('[^a-z0-9', '', s) # 문자열 전체를 한번에 영숫자만 걸러내도록 정규식으로 처리\n",
        "\n",
        "  return s == s[::-1] #슬라이싱 # ::-1을 이용하여 뒤집기"
      ],
      "execution_count": null,
      "outputs": []
    },
    {
      "cell_type": "markdown",
      "metadata": {
        "id": "nns2xAGkgWj1"
      },
      "source": [
        "## Q2. 문자열 뒤집기\n",
        ": 문자열을 뒤집는 함수 작성\n",
        "- 조건: 입력값은 문자배열, 리턴없이 리스트 내부 직접 조작\n"
      ]
    },
    {
      "cell_type": "markdown",
      "metadata": {
        "id": "awoViSnQgxkQ"
      },
      "source": [
        "### 풀이1) 투 포인터를 이용한 스왑\n",
        "- 2개의 포인터를 이용해 범위를 조종해가며 풀이하는 방식"
      ]
    },
    {
      "cell_type": "code",
      "metadata": {
        "id": "dKC2_aMLn9PS"
      },
      "source": [
        "from typing import List"
      ],
      "execution_count": 25,
      "outputs": []
    },
    {
      "cell_type": "code",
      "metadata": {
        "id": "GBecyWrTgxKO"
      },
      "source": [
        "def reverseString(self, s: List[str]) -> None:\n",
        "  left, right =0, len(s) -1\n",
        "  while left < right:\n",
        "    s[left], s[right] = s[right], s[left]\n",
        "    left += 1\n",
        "    right -= 1"
      ],
      "execution_count": 26,
      "outputs": []
    },
    {
      "cell_type": "markdown",
      "metadata": {
        "id": "N-vJp4pThsmd"
      },
      "source": [
        "### 풀이2) 파이썬 다운 방식\n",
        "- 한줄로 쉳게 풀이"
      ]
    },
    {
      "cell_type": "code",
      "metadata": {
        "id": "cbrmfrwihzU0"
      },
      "source": [
        "def reverseString(self, s: List[str]) -> None:\n",
        "  s.reverse()"
      ],
      "execution_count": 13,
      "outputs": []
    },
    {
      "cell_type": "markdown",
      "metadata": {
        "id": "5B0U7jw_iBqO"
      },
      "source": [
        "## Q3. 로그 파일 재정렬\n",
        ": 로그를 재정렬하기  \n",
        "조건:  \n",
        "1) 로그의 가장 앞 부분은 식졀자   \n",
        "2) 문자로 구성된 로그가 숫자 로그보다 앞에 온다.  \n",
        "3) 식별자는 순서에 영향을 끼치지 않지만, 문자가 동일한 경우 식별자 순으로 한다.   \n",
        "4) 숫자 로그는 입력 순서대로 한다. "
      ]
    },
    {
      "cell_type": "markdown",
      "metadata": {
        "id": "OBGvYo81iQfu"
      },
      "source": [
        " ### 풀이1) 람다와 + 연산자 사용하기\n"
      ]
    },
    {
      "cell_type": "code",
      "metadata": {
        "id": "cK_goRGvisWr"
      },
      "source": [
        "def reorderLogFiles(self, logs: List[str]) -> List[str]:\n",
        "  letters, digits = [], []\n",
        "  for log in logs:\n",
        "    if log.split([1]).isdigit():\n",
        "      digits.append(log)\n",
        "    else:\n",
        "      letters,append(log)\n",
        "\n",
        "  # 2개의 키를 람다 표현식으로 정렬\n",
        "\n",
        "  letter.sort(key=lambda x: (x.split()[1:], x.split([0])))\n",
        "  return letters + digits"
      ],
      "execution_count": 29,
      "outputs": []
    },
    {
      "cell_type": "markdown",
      "metadata": {
        "id": "ugSOcMi3jgp4"
      },
      "source": [
        "## Q4. 가장 흔한 단어\n",
        ": 금지된 단어를 제외한 가장 흔하게 등장하는 단어를 출력하기\n",
        "조건: 대소문자 구분 x, 구두점 무시"
      ]
    },
    {
      "cell_type": "markdown",
      "metadata": {
        "id": "ZG24Ps_9jpXb"
      },
      "source": [
        "### 풀이1) 리스트 컴프리헨션, counter 객체 사용"
      ]
    },
    {
      "cell_type": "code",
      "metadata": {
        "id": "Rux1MhdljgYT"
      },
      "source": [
        "def mostCommonWord(self, paragraph: str, bsnned: List[str]) -> str:\n",
        "  words = [word for word in re.sub(r'[^\\w]', ' ', paragraph).lower().split() if word not in banned]\n",
        "\n",
        "  counts = collections.Counter(words)\n",
        "  #가장 흔하게 등장하는 첫 번째 인덱스 리턴\n",
        "\n",
        "  return counts.most_common(1)[0][0] "
      ],
      "execution_count": 22,
      "outputs": []
    },
    {
      "cell_type": "markdown",
      "metadata": {
        "id": "Xa-rlUoPm6VP"
      },
      "source": [
        "## Q5. 그룹 애너 그램\n",
        ": 문자열 배열을 받아 애너그램 단위로 그룹핑하라\n",
        "\n",
        "_애너그램: 문자를 재배열하여 다른 뜻을 가진 단어로 바꾸는 것_"
      ]
    },
    {
      "cell_type": "markdown",
      "metadata": {
        "id": "di1y_VkBnKWn"
      },
      "source": [
        "### 풀이1) 정렬하여 딕셔너리에 추가 "
      ]
    },
    {
      "cell_type": "code",
      "metadata": {
        "id": "86_G9ayPnQKS"
      },
      "source": [
        "def groupAnagrams(self, strs: List[str]) -> List[List[str]]:\n",
        "  anagrams = colletions.defaultdict(list)\n",
        "\n",
        "  for word in strs:\n",
        "    # 정렬하여 딕셔너리에 추가\n",
        "    anagrams[''.join(sorted(word))].append(word)\n",
        "\n",
        "  return anagrams.values()"
      ],
      "execution_count": 27,
      "outputs": []
    },
    {
      "cell_type": "markdown",
      "metadata": {
        "id": "xQE68k6BoKjY"
      },
      "source": [
        "## Q6. 가장 긴 팰린드롬 부분 문자열\n",
        ": 가장 긴 팰린드롬 부분 문자열을 출력하기"
      ]
    },
    {
      "cell_type": "markdown",
      "metadata": {
        "id": "gFlamzRqoRWB"
      },
      "source": [
        "### 풀이1) 중앙을 중심으로 확장하는 풀이"
      ]
    },
    {
      "cell_type": "code",
      "metadata": {
        "id": "W2-YbzwGoZId"
      },
      "source": [
        "def longestPalindrome(self, s: str) -> str:\n",
        "  # 팰린드롬 판별 및 투 포인터 확장\n",
        "  def expand(left: int, right: int) -> str:\n",
        "    while left >= 0 and right <= len(s) and s[left] == s[right-1]:\n",
        "      left -= 1\n",
        "      right += 1\n",
        "    return s[left + 1:right -1]\n",
        "\n",
        "  # 해당 사항이 없을 때 빠르게 리턴\n",
        "  if len(s) < 2 or s == s[::-1]:\n",
        "    return s"
      ],
      "execution_count": 28,
      "outputs": []
    }
  ]
}
