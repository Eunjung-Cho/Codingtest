{
  "nbformat": 4,
  "nbformat_minor": 0,
  "metadata": {
    "colab": {
      "name": "코테스터디_2주차_7장.ipynb",
      "provenance": [],
      "authorship_tag": "ABX9TyNAkQJxFp4xM9JzkTbkGjkk",
      "include_colab_link": true
    },
    "kernelspec": {
      "name": "python3",
      "display_name": "Python 3"
    },
    "language_info": {
      "name": "python"
    }
  },
  "cells": [
    {
      "cell_type": "markdown",
      "metadata": {
        "id": "view-in-github",
        "colab_type": "text"
      },
      "source": [
        "<a href=\"https://colab.research.google.com/github/Eunjung-Cho/Codingtest/blob/main/week2/%EC%BD%94%ED%85%8C%EC%8A%A4%ED%84%B0%EB%94%94_2%EC%A3%BC%EC%B0%A8_7%EC%9E%A5.ipynb\" target=\"_parent\"><img src=\"https://colab.research.google.com/assets/colab-badge.svg\" alt=\"Open In Colab\"/></a>"
      ]
    },
    {
      "cell_type": "markdown",
      "metadata": {
        "id": "TD98MNq7qIWP"
      },
      "source": [
        "# 3부 선형 자료 구조\n",
        "\n",
        "- 데이터 요소가 순차적으로 배열되는 자료구조\n",
        "- 단일 레벨로 구성된다. \n",
        "- 배열, 스택, 큐, 연결 리스트 등이 모두 선형 자료구조에 속한다.\n",
        "- 자료구조의 종류는 연속방식(메모리 공간 기반), 연결방식(포인터 기반)으로 나뉜다."
      ]
    },
    {
      "cell_type": "markdown",
      "metadata": {
        "id": "4EyITT6ap5sC"
      },
      "source": [
        "# 7장 배열\n",
        "\n",
        "- 배열은 값 또는 변수 엘리먼트의 집합으로 구성된 구조로, 하나 이상의 인덱스 또는 키로 식별된다. \n",
        "\n",
        "## 동적배열의 원리: 미리 초깃값을 작게 잡아 배열을 생성하고, 데이터가 추가되면서 꽉 채워지면, 늘려주고 모두 복사하는 식 (보통 더블링 -> 2배씩 늘려줌)"
      ]
    },
    {
      "cell_type": "markdown",
      "metadata": {
        "id": "ZeI9RdayriXR"
      },
      "source": [
        "## Q7. 두수의 합\n",
        ": 덧셈하여 타겟을 만들 수 있는 배열의 두 숫자 인덱스를 리턴하라"
      ]
    },
    {
      "cell_type": "markdown",
      "metadata": {
        "id": "tJVP8nUUrtHd"
      },
      "source": [
        "### 풀이1) 브루트 포스로 계산\n",
        "- 배열을 2번 반복하면서 모든 조합을 더해서 일일이 확인해보는 무차별 대입 방식\n",
        "- 시간 복잡도: O($n^2$)"
      ]
    },
    {
      "cell_type": "code",
      "metadata": {
        "id": "HsHKAMStsPLa"
      },
      "source": [
        "from typing import List"
      ],
      "execution_count": 1,
      "outputs": []
    },
    {
      "cell_type": "code",
      "metadata": {
        "id": "weAYOl5psHKS"
      },
      "source": [
        "def twoSum(self, nums: List[int], target: int) -> List[int]:\n",
        "  for i in range(len(nums)):\n",
        "    for j in range(i + 1, len(nums)):\n",
        "      if nums[i]+nums[j] == target:\n",
        "        return [i,j]"
      ],
      "execution_count": 2,
      "outputs": []
    },
    {
      "cell_type": "markdown",
      "metadata": {
        "id": "N-F5sIgzsi-Q"
      },
      "source": [
        "### 풀이2) in을 이용한 방식\n",
        "- 모든 조합을 비교하지 않고 정답, 즉 타겟에서 첫 번째 값을 뺀 target - n이 존재하는지 탑색\n",
        "- 위와 같은 시간복잡도이지만 조금 더 빠름"
      ]
    },
    {
      "cell_type": "code",
      "metadata": {
        "id": "SeX6vzrnswis"
      },
      "source": [
        "def twoSum(self, nums: List[int], target: int) -> List[int]:\n",
        "  for i, n in enumerate(nums):\n",
        "    complement = target - n\n",
        "\n",
        "    if complement in nums[i+1]:\n",
        "      return nums.index(n), nums[i+1:].index(complement) + (i+1)"
      ],
      "execution_count": 3,
      "outputs": []
    },
    {
      "cell_type": "markdown",
      "metadata": {
        "id": "2ERark7stW9I"
      },
      "source": [
        "### 풀이3) 첫 번째 수를 뺀 결과 키 조회\n",
        "- 시간복잡도: O(n)"
      ]
    },
    {
      "cell_type": "code",
      "metadata": {
        "id": "OlV1wR3gtbWU"
      },
      "source": [
        "def twoSum(self, nums: List[int], target: int) -> List[int]:\n",
        "  nums_map = {}\n",
        "  # 키와 값을 바꿔서 딕셔너리로 저장\n",
        "  for i, num in enumerate(nums):\n",
        "    nums_map[num] = i\n",
        "\n",
        "  # 타겟에서 첫 번째 수를 뺀 결과를 키로 조회\n",
        "  for i, num in enumerate(nums):\n",
        "    if target - num in nums_map and i != nums_map[target - num]:\n",
        "      return nums.index(num), nums_map[target - num]"
      ],
      "execution_count": 4,
      "outputs": []
    },
    {
      "cell_type": "markdown",
      "metadata": {
        "id": "OK3YtQTnuEvx"
      },
      "source": [
        "### 풀이4) 조회 구조 개선"
      ]
    },
    {
      "cell_type": "code",
      "metadata": {
        "id": "YvSXIwEauI0L"
      },
      "source": [
        "def twoSum(self, nums: List[int], target: int) -> List[int]:\n",
        "  nums_map = {}\n",
        "  # 하나의 for문으로 통합\n",
        "  for i, num in enumerate(nums):\n",
        "    if target - num in nums_map:\n",
        "      return [nums_map[target - num], i]\n",
        "    nums_map[num] = i"
      ],
      "execution_count": null,
      "outputs": []
    },
    {
      "cell_type": "markdown",
      "metadata": {
        "id": "MOmQ3t2uubJg"
      },
      "source": [
        "### 풀이5) 투 포인터 이용\n",
        "- 투포인터: \n",
        "  - 좌 + 우 > 타겟 => 우 포인터를 왼쪽으로\n",
        "  - 좌 + 우 < 타겟 => 좌 포인터를 오른쪽으로\n",
        "- 시간복잡도: O(n)\n"
      ]
    },
    {
      "cell_type": "code",
      "metadata": {
        "id": "bej2zHY6u1U9"
      },
      "source": [
        "def twoSum(self, nums: List[int], target: int) -> List[int]:\n",
        "  left, right = 0, len(nums) -1\n",
        "  while not left == right:\n",
        "    # 합이 타겟보다 크면 오른쪽 포인터를 왼쪽으로\n",
        "    if nums[left] + num[right] > target:\n",
        "      left += 1\n",
        "    # 합이 타겟보다 작으면 왼쪽 포인터를 오른쪽으로\n",
        "    if nums[left] + num[right] < target:\n",
        "      right += 1\n",
        "    else:\n",
        "      return left, right"
      ],
      "execution_count": 5,
      "outputs": []
    },
    {
      "cell_type": "markdown",
      "metadata": {
        "id": "1KuKm7-zvgEv"
      },
      "source": [
        "## Q8. 빗물 트래핑\n",
        ": 높이를 입력받아 비 온 후 얼마나 많은 물이 쌓일 수 있는지 계산하기"
      ]
    },
    {
      "cell_type": "markdown",
      "metadata": {
        "id": "022vy_CjwG8n"
      },
      "source": [
        "### 풀이1) 투 포인터를 최대로 이동\n",
        "- 시간복잡도: O(n)\n",
        "\n"
      ]
    },
    {
      "cell_type": "code",
      "metadata": {
        "id": "8dA50oBZwhdr"
      },
      "source": [
        "def trap(self, height: List[int]) -> int:\n",
        "  if not height:\n",
        "    return 0\n",
        "\n",
        "  volume = 0\n",
        "  left, right =0, len(height) -1\n",
        "  left_max, right_max = height[left], height[right]\n",
        "\n",
        "  while left < right:\n",
        "    left_max, right_max = max(height[left], left_max), max(height[right], right_max)\n",
        "    # 더 높은 쪽을 향해 투 포인터 이동\n",
        "    if left_max <= right_max:\n",
        "      volume += left_max - height[left]\n",
        "      left += 1\n",
        "    else:\n",
        "      volume += right_max - height[right]\n",
        "      right -= 1\n",
        "  return volume"
      ],
      "execution_count": 6,
      "outputs": []
    },
    {
      "cell_type": "markdown",
      "metadata": {
        "id": "_fu1Pl2OwKBW"
      },
      "source": [
        "### 풀이2) 스택 쌓기\n",
        "- 시간복잡도: O(n)\n"
      ]
    },
    {
      "cell_type": "code",
      "metadata": {
        "id": "4_ispA9AxpTz"
      },
      "source": [
        "def trap(self, height: List[int]) -> int:\n",
        "  stack =[]\n",
        "  volume = 0\n",
        "\n",
        "  for i in range(len(height)):\n",
        "    # 변곡점을 만나는 경우\n",
        "    while stack and height[i] > height[stack[-1]]:\n",
        "      # 스택에서 꺼낸다.\n",
        "      top = stack.pop()\n",
        "\n",
        "      if not len(stack):\n",
        "        break\n",
        "      #이전과의 차이만큼 물 높이 처리\n",
        "      distance = i -stack[-1] -1\n",
        "      waters = min(height[i], height[stack[-1]]) - height[top]\n",
        "\n",
        "      volume += distance * waters\n",
        "    stack.append(i)\n",
        "\n",
        "  return volume"
      ],
      "execution_count": null,
      "outputs": []
    },
    {
      "cell_type": "markdown",
      "metadata": {
        "id": "IsIRQiLivjUr"
      },
      "source": [
        "## Q9. 세 수의 합\n",
        ": 배열을 입력받아 합으로 0을 만들 수 있는 3개의 엘리먼트를 출력하라 "
      ]
    },
    {
      "cell_type": "markdown",
      "metadata": {
        "id": "yC9AGkGDwMtt"
      },
      "source": [
        "### 풀이1) 브루트 포스로 계산\n",
        "- 시간 복잡도: O($n^2$)라 타임아웃으로 풀리지 않음"
      ]
    },
    {
      "cell_type": "code",
      "metadata": {
        "id": "IzfG6qCVzA0V"
      },
      "source": [
        "def threeSum(self, nums: List[int]) -> List[List[int]]:\n",
        "  results = []\n",
        "  nums.sort()\n",
        "\n",
        "  # 브루트 포스로 n^3 반복\n",
        "  for i in range(len(nums)-2):\n",
        "    # 중복된 값 건너 뛰기\n",
        "    if i >0 and nums[i] == nums[i-1]:\n",
        "      continue\n",
        "    for j in range(i +1, len(nums)-1):\n",
        "      if j> i+1 and nums[j] == nums[j-1]:\n",
        "        continue\n",
        "      for k in range(j + 1, len(nums)):\n",
        "        if k > j+1 and nums[k] == nums[k-1]:\n",
        "          continue\n",
        "        if nums[i] + nums[j] + nums[k] ==0:\n",
        "          results,append((nums[i], nums[j], nums[k]))\n",
        "\n",
        "  return results"
      ],
      "execution_count": 7,
      "outputs": []
    },
    {
      "cell_type": "markdown",
      "metadata": {
        "id": "ocj56flqwTrM"
      },
      "source": [
        "### 풀이2) 투 포인터로 합 계산"
      ]
    },
    {
      "cell_type": "code",
      "metadata": {
        "id": "zvenUzX30AzG"
      },
      "source": [
        "def threeSum(self, nums: List[int]) -> List[List[int]]:\n",
        "  results = []\n",
        "  nums.sort()\n",
        "\n",
        "  for i in range(len(nums)-2):\n",
        "    # 중복된 값 건너 뛰기\n",
        "    if i >0 and nums[i] == nums[i-1]:\n",
        "      continue\n",
        "    # 간격을 좁혀가며 합 sum 계산\n",
        "    left, right = i + 1, len(nums) -1\n",
        "    while left < right:\n",
        "      sum = nums[i] + nums[left] + nums[right]\n",
        "      if sum <0:\n",
        "        left += 1\n",
        "      elif sum >0:\n",
        "        right -= 1\n",
        "      else:\n",
        "        # sum=0인 경우이므로 정답 및 스킵처리\n",
        "        results.append((nums[i], nums[j], nums[k]))\n",
        "\n",
        "        while left < right and nums[left] == nums[left+1]:\n",
        "          left += 1\n",
        "        while left < right and nums[right] == nums[right-1]:\n",
        "          right -= 1\n",
        "        left += 1\n",
        "        right -= 1\n",
        "\n",
        "  return results    "
      ],
      "execution_count": 8,
      "outputs": []
    },
    {
      "cell_type": "markdown",
      "metadata": {
        "id": "tvkyNdlRvnhX"
      },
      "source": [
        "## Q10. 배열 파티션1\n",
        ": n개의 페어를 이용한 min(a,b)의 합으로 만들 수 있는 가장 큰 수를 출력하라"
      ]
    },
    {
      "cell_type": "markdown",
      "metadata": {
        "id": "3bRWmC4_wRTn"
      },
      "source": [
        "### 풀이1) 오름차순 풀이"
      ]
    },
    {
      "cell_type": "code",
      "metadata": {
        "id": "hCzey-M41A2Z"
      },
      "source": [
        "def arrayPairSum(self, nums: List[int]) -> int:\n",
        "  sum =0\n",
        "  pair =[]\n",
        "  nums.sort()\n",
        "\n",
        "  for n in nums:\n",
        "    #앞에서부터 오름차순으로 페어를 만들어서 합 계산\n",
        "    pair.append(n)\n",
        "    if len(pair) ==2:\n",
        "      sum += min(pair)\n",
        "      pair = []\n",
        "  return sum"
      ],
      "execution_count": 9,
      "outputs": []
    },
    {
      "cell_type": "markdown",
      "metadata": {
        "id": "WpPEXfNywUcb"
      },
      "source": [
        "### 풀이2) 짝수 번째 값 계산"
      ]
    },
    {
      "cell_type": "code",
      "metadata": {
        "id": "d9QmQcit1cCd"
      },
      "source": [
        "def arrayPairSum(self, nums: List[int]) -> int:\n",
        "  sum =0\n",
        "  pair =[]\n",
        "  nums.sort()\n",
        "\n",
        "  for i, n in enumerate(nums):\n",
        "    #짝수 번째 값의 합 계산\n",
        "    if i % 2 == 0:\n",
        "      sum += n\n",
        "\n",
        "  return sum"
      ],
      "execution_count": 10,
      "outputs": []
    },
    {
      "cell_type": "markdown",
      "metadata": {
        "id": "hjDKAbjf1mFW"
      },
      "source": [
        "### 풀이3) 파이썬다운 방식\n",
        "- 슬라이싱을 활용\n",
        "- 가장 짧은 시간이 걸린다. "
      ]
    },
    {
      "cell_type": "code",
      "metadata": {
        "id": "Esr2CJLd1pux"
      },
      "source": [
        "def arrayPairSum(self, nums: List[int]) -> int:\n",
        "  return sum(sorted(nums[::2]))"
      ],
      "execution_count": 11,
      "outputs": []
    },
    {
      "cell_type": "markdown",
      "metadata": {
        "id": "jHYFx9C7vssV"
      },
      "source": [
        "## Q11. 자신을 제외한 배열의 곱\n",
        ": 배열을 입력받아 output[i]가 자신을 제외한 나머지 모든 요소의 곱셈 결과가 되도록 출력하기\n",
        "- 조건: 나눗셈을 하지 않고 O(n)에 풀이하기"
      ]
    },
    {
      "cell_type": "markdown",
      "metadata": {
        "id": "VQNezwyVwR60"
      },
      "source": [
        "### 풀이1) 왼쪽 곱셈 결과에 오른쪽 값을 차례대로 곱셈"
      ]
    },
    {
      "cell_type": "code",
      "metadata": {
        "id": "Qb0l-cOO2K0u"
      },
      "source": [
        "def productExceptSelf(self, nums: List[int]) -> List[int]:\n",
        "  out = []\n",
        "  p = 1\n",
        "  #왼쪽 곱셈\n",
        "  for i in range(0, len(nums)):\n",
        "    out.append(p)\n",
        "    p = p*nums[i]\n",
        "  p = 1\n",
        "  # 왼쪽 곱셈 결과에 오른쪽 값을 차례대로 곱셈\n",
        "  for i in range(len(nums) - 1, 0 -1, -1):\n",
        "    out[i] = out[i] * p\n",
        "    p = p * nums[i]\n",
        "  return out"
      ],
      "execution_count": 12,
      "outputs": []
    },
    {
      "cell_type": "markdown",
      "metadata": {
        "id": "DFXQyvFzvwfN"
      },
      "source": [
        "## Q12. 주식을 사고 팔기 가장 좋은 시점\n",
        ": 한번의 거래로 낼 수 있는 최대의 이익을 산출하기\n",
        "- 저점에 사고 고점에 팔아서 낼 수 있는 최대의 이익 찾기"
      ]
    },
    {
      "cell_type": "markdown",
      "metadata": {
        "id": "JGyMuOocv3UO"
      },
      "source": [
        "### 풀이1) 브루트 포스로 계산\n",
        "- 타임아웃으로 풀리지는 않는다.\n",
        "- 시간 복잡도: O($n^2$)"
      ]
    },
    {
      "cell_type": "code",
      "metadata": {
        "id": "WWwUs7Td2xvw"
      },
      "source": [
        "def maxProfit(self, prices: List[int]) -> int:\n",
        "  max_price =0\n",
        "  for i,price in enumerate(prices):\n",
        "    for j in range(i, len(prices)):\n",
        "      max_price = max(prices[j] - price, max_price)\n",
        "  return max_price"
      ],
      "execution_count": 13,
      "outputs": []
    },
    {
      "cell_type": "markdown",
      "metadata": {
        "id": "NGAXS-Gwv-BC"
      },
      "source": [
        "### 풀이2) 저점과 현재 값과의 차이 계산\n",
        "- 시간 복잡도: O(n)\n",
        "- 카데인 알고리즘 응용 (86번 문제와 비슷)"
      ]
    },
    {
      "cell_type": "code",
      "metadata": {
        "id": "gZTWfLJl3VlP"
      },
      "source": [
        "def maxProfit(self, prices: List[int]) -> int:\n",
        "  profit = 0\n",
        "  min_price = sys.maxsize\n",
        "\n",
        "  # 최솟값과 최댓값을 계속 갱신\n",
        "  for price in prices:\n",
        "    min_price = min(min_price, price)\n",
        "    profit = max(profit, price - min_price)\n",
        "  \n",
        "  return profit"
      ],
      "execution_count": 16,
      "outputs": []
    }
  ]
}