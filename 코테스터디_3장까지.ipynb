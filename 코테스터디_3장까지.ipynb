{
  "nbformat": 4,
  "nbformat_minor": 0,
  "metadata": {
    "colab": {
      "name": "코테스터디_3장까지.ipynb",
      "provenance": [],
      "collapsed_sections": [],
      "toc_visible": true,
      "authorship_tag": "ABX9TyND2uVfCrWg35Ou5X/n53tJ",
      "include_colab_link": true
    },
    "kernelspec": {
      "name": "python3",
      "display_name": "Python 3"
    }
  },
  "cells": [
    {
      "cell_type": "markdown",
      "metadata": {
        "id": "view-in-github",
        "colab_type": "text"
      },
      "source": [
        "<a href=\"https://colab.research.google.com/github/Eunjung-Cho/Codingtest/blob/main/%EC%BD%94%ED%85%8C%EC%8A%A4%ED%84%B0%EB%94%94_3%EC%9E%A5%EA%B9%8C%EC%A7%80.ipynb\" target=\"_parent\"><img src=\"https://colab.research.google.com/assets/colab-badge.svg\" alt=\"Open In Colab\"/></a>"
      ]
    },
    {
      "cell_type": "markdown",
      "metadata": {
        "id": "HMmj8KzPqYFz"
      },
      "source": [
        "# 1장 코딩 인터뷰\r\n",
        "\r\n",
        "- 온라인 코딩 테스트의 사전 준비사항\r\n",
        "\r\n",
        "## 1) 연습장과 필기도구 필요\r\n",
        "- 값의 변화나 최종 결과를 지록하고 머릿속에 떠올린 구조와 비교하면서 풀이\r\n",
        "\r\n",
        "## 2) 자신만의 코드 스니펫 준비\r\n",
        "- 코드 스니펫: 형식이 정해진 코드 조각들을 필요할 때마다 불러서 사용하는 방법이 사용자 코드 조각\r\n",
        "- ex) 연결 리스트를 뒤집거나 삭제하는 등의 작업들은 갑자기 구현하려면 헷갈리고 시간소요가 많다. ->이런 코드 스니펫은 사전에 만들어 두기\r\n",
        "-로컬에서 별도 프로그램 사용 or 깃허브 기스트(코드 스니펫 관리)\r\n",
        "\r\n",
        "## 3) 모든 테스트 케이스를 통과하도록 풀기\r\n",
        "- Test Case: 특정한 테스트 목표를 달성하기 위해 실행되는 입력, 실행 조건, 테스트 절차, 기대 결과 등의 스펙\r\n",
        "\r\n",
        "## 4) 타임아웃 생각하기\r\n",
        "- O(n) 이나 O(n log n)정도는 되어야 풀림\r\n",
        "- 파이썬은 좀 느리므로 다른 언어에 비해 알고리즘 최적화에 좀 더 많은 고민 필요\r\n",
        "\r\n",
        "## 5) 예외처리 잊지말기\r\n",
        "- 입력값에 0 이나 null 값 오는 경우\r\n",
        "\r\n",
        "## 6) 잘못 접근한 풀이\r\n",
        "- 스스로 문제당 제한 시간을 정해두고 그 시간을 초과할 경우 바로바로 다음 문제로 넘어가자.\r\n",
        "\r\n",
        "## 7) REPL 도구로 코드를 검증하자\r\n",
        "- REPL: read-eval-print loop : 읽고 값을 계산한 다음 출력을 반복하는 구조\r\n",
        "- 주피터나 코랩, 파이참 등"
      ]
    },
    {
      "cell_type": "markdown",
      "metadata": {
        "id": "VXmtbGdIutWg"
      },
      "source": [
        "# 2장 프로그래밍 언어 선택"
      ]
    },
    {
      "cell_type": "markdown",
      "metadata": {
        "id": "L-zLgNfjxsGJ"
      },
      "source": [
        "## Pseudocode (의사코드) \r\n",
        "- 일정한 규칙을 준수하지만 기계가 판독하려는 용도가 아닌, 사람이 쉽게 알아볼 수있는 형태\r\n",
        "\r\n",
        "예시)\r\n",
        "```{python}\r\n",
        "함수 fizzbuzz() #함수 fizzbuss 선언\r\n",
        "    for i = 1 to 100 # 숫자 i가 1부터 100까지 \r\n",
        "      print_number=True #print_number변수는 논리는True이다. \r\n",
        "\r\n",
        "      if i is 3으로 나눌 수 있다면 #만약 그 숫자를 3으로 나눌 수 있다면\r\n",
        "        print \"Fizz\" # Fizz라는 단어를 출력\r\n",
        "        print_number = False #print_number변수 논리는 False이다. \r\n",
        "\r\n",
        "      if i is 5로 나눌 수 있다면 #만약 그 숫자를 5으로 나눌 수 있다면\r\n",
        "        print \"Buzz\" # Buzz라는 단어를 출력\r\n",
        "        print_number = Flase #print_number변수 논리는 False이다.\r\n",
        "\r\n",
        "      if print_number=True #print_number변수 논리가 True 이면\r\n",
        "        print i # 그 숫자를 출력하기\r\n",
        "      \r\n",
        "      print 빈줄\r\n",
        "```\r\n"
      ]
    },
    {
      "cell_type": "markdown",
      "metadata": {
        "id": "9480HQW90Lpt"
      },
      "source": [
        "## 프로그래밍 언어별 특징\r\n",
        "\r\n",
        "```{C}\r\n",
        "// C++ 랑 JAVA\r\n",
        "int sum =0; #\r\n",
        "for (int i=1; i <=10; i++){\r\n",
        "  sum += i;\r\n",
        "}\r\n",
        "```\r\n",
        "\r\n",
        "#### pg.56 예제"
      ]
    },
    {
      "cell_type": "code",
      "metadata": {
        "colab": {
          "base_uri": "https://localhost:8080/"
        },
        "id": "QB1bbsFdx6bN",
        "outputId": "19887c2f-30e5-4660-d9e3-0e05d81207f2"
      },
      "source": [
        "# 파이썬 언어 \r\n",
        "# 변수명 예시에는 모두 sum 이라고 되어 있는데, 같은 파일에서  모두 돌릴 경우 변수명 겹쳐서 에러 : TypeError: 'int' object is not callable\r\n",
        "# 에러 발생 이유는 변수명이 예약어와 같기 때문\r\n",
        "sum2 = 0\r\n",
        "for i in range(1, 10+1):\r\n",
        "  sum2 += i\r\n",
        "\r\n",
        "print(sum2)"
      ],
      "execution_count": null,
      "outputs": [
        {
          "output_type": "stream",
          "text": [
            "55\n"
          ],
          "name": "stdout"
        }
      ]
    },
    {
      "cell_type": "code",
      "metadata": {
        "colab": {
          "base_uri": "https://localhost:8080/"
        },
        "id": "Jk8SPluG1y-R",
        "outputId": "5b2f5460-c1f4-47ce-f62e-33e0314d301d"
      },
      "source": [
        "sum3 = sum(i for i in range(1,10+1)) #여기서의 sum은 내장함수! \r\n",
        "sum3"
      ],
      "execution_count": null,
      "outputs": [
        {
          "output_type": "execute_result",
          "data": {
            "text/plain": [
              "55"
            ]
          },
          "metadata": {
            "tags": []
          },
          "execution_count": 7
        }
      ]
    },
    {
      "cell_type": "code",
      "metadata": {
        "colab": {
          "base_uri": "https://localhost:8080/"
        },
        "id": "9HDv3vJv1y0u",
        "outputId": "1a76d48f-0793-4045-b871-3ea3d8419a80"
      },
      "source": [
        "sum4 = sum(range(1,10+1)) #여기서의 sum은 내장함수! \r\n",
        "sum4"
      ],
      "execution_count": null,
      "outputs": [
        {
          "output_type": "execute_result",
          "data": {
            "text/plain": [
              "55"
            ]
          },
          "metadata": {
            "tags": []
          },
          "execution_count": 6
        }
      ]
    },
    {
      "cell_type": "markdown",
      "metadata": {
        "id": "2-KjJ3ke3EZH"
      },
      "source": [
        "## 제네릭 프로그래밍\r\n",
        "- generic (제네릭) : 파라미터의 타입 나중에 지정되게 해서 재활용을 높일 수 있는 프로그래밍 스타일 \r\n",
        "- 파이썬은 동적 타이핑 언어이기 때문에 제네릭이 필요 없지만 버그발생확률을 줄이고 가독성을 좋게하기 위해 타입을 명시하는 것이 좋다. \r\n",
        "\r\n",
        "```{C++}\r\n",
        "// C++\r\n",
        "template<class T, class U>\r\n",
        "bool are_equal(T a, U b){\r\n",
        "  return (a==b);\r\n",
        "}\r\n",
        "\r\n",
        "```\r\n",
        "\r\n",
        "**pg.58**"
      ]
    },
    {
      "cell_type": "code",
      "metadata": {
        "colab": {
          "base_uri": "https://localhost:8080/"
        },
        "id": "v3LShJXE8B28",
        "outputId": "3189b57a-cd59-4bef-a52e-0498cb7aa375"
      },
      "source": [
        "def are_equal(a,b):\r\n",
        "  return a==b\r\n",
        "\r\n",
        "are_equal(10, 10.0)"
      ],
      "execution_count": null,
      "outputs": [
        {
          "output_type": "execute_result",
          "data": {
            "text/plain": [
              "True"
            ]
          },
          "metadata": {
            "tags": []
          },
          "execution_count": 8
        }
      ]
    },
    {
      "cell_type": "code",
      "metadata": {
        "id": "a8bWfASAB29c",
        "colab": {
          "base_uri": "https://localhost:8080/"
        },
        "outputId": "75507151-abbf-4067-bac8-55468bf1a521"
      },
      "source": [
        "from typing import TypeVar\r\n",
        "\r\n",
        "T = TypeVar('T')\r\n",
        "U = TypeVar('U')\r\n",
        "\r\n",
        "def are_equal(a:T, b:U) -> bool:\r\n",
        "  return a==b\r\n",
        "\r\n",
        "are_equal(10, 10.0)"
      ],
      "execution_count": null,
      "outputs": [
        {
          "output_type": "execute_result",
          "data": {
            "text/plain": [
              "True"
            ]
          },
          "metadata": {
            "tags": []
          },
          "execution_count": 9
        }
      ]
    },
    {
      "cell_type": "markdown",
      "metadata": {
        "id": "vB9RrgUjDR97"
      },
      "source": [
        "#### 배열 반복 pg.60\r\n",
        "\r\n",
        "- 각 언어별 문자열 배열(파이썬에서는 리스트)을 반복하면서 엘리먼트를 출력하는 코드 작성해보기"
      ]
    },
    {
      "cell_type": "code",
      "metadata": {
        "colab": {
          "base_uri": "https://localhost:8080/"
        },
        "id": "khTfU1mSEZL7",
        "outputId": "c077c04a-c77e-4080-9c53-92626c560fbf"
      },
      "source": [
        "foo = ['A', 'B', 'C']\r\n",
        "for f in foo:\r\n",
        "  print(f)"
      ],
      "execution_count": null,
      "outputs": [
        {
          "output_type": "stream",
          "text": [
            "A\n",
            "B\n",
            "C\n"
          ],
          "name": "stdout"
        }
      ]
    },
    {
      "cell_type": "markdown",
      "metadata": {
        "id": "X07XtGpOEZWi"
      },
      "source": [
        "#### 구조체(Struct) pg.62\r\n",
        "- 순차적으로 메모리를 할당하는 배열과 달리 구조체는 메모리의 어느 영역에나 어떤 크기로든 할당할 수 있는 사실항 유일한 복합 자료형"
      ]
    },
    {
      "cell_type": "code",
      "metadata": {
        "colab": {
          "base_uri": "https://localhost:8080/"
        },
        "id": "zATEwXNjGNsD",
        "outputId": "c124a06d-7da8-430a-9c0e-1b009e4306cb"
      },
      "source": [
        "#파이썬에는 구조체가 없기 때문에 따로 namedtuple 라이브러리 불러오기\r\n",
        "from collections import namedtuple\r\n",
        "MyStruct =namedtuple(\"MyStruct\", \"field1 field2 field3\")\r\n",
        "a = MyStruct(\"foo\", \"bar\", \"baz\")\r\n",
        "a"
      ],
      "execution_count": null,
      "outputs": [
        {
          "output_type": "execute_result",
          "data": {
            "text/plain": [
              "MyStruct(field1='foo', field2='bar', field3='baz')"
            ]
          },
          "metadata": {
            "tags": []
          },
          "execution_count": 12
        }
      ]
    },
    {
      "cell_type": "code",
      "metadata": {
        "colab": {
          "base_uri": "https://localhost:8080/"
        },
        "id": "pnX5RYTMKJrw",
        "outputId": "f47a35e9-029c-4012-d230-aa35814579ce"
      },
      "source": [
        "!pip install dataclasses"
      ],
      "execution_count": null,
      "outputs": [
        {
          "output_type": "stream",
          "text": [
            "Collecting dataclasses\n",
            "  Downloading https://files.pythonhosted.org/packages/26/2f/1095cdc2868052dd1e64520f7c0d5c8c550ad297e944e641dbf1ffbb9a5d/dataclasses-0.6-py3-none-any.whl\n",
            "Installing collected packages: dataclasses\n",
            "Successfully installed dataclasses-0.6\n"
          ],
          "name": "stdout"
        }
      ]
    },
    {
      "cell_type": "code",
      "metadata": {
        "id": "2hJrJON9JcBe"
      },
      "source": [
        "# 파이썬 3.7부터 dataclass 지원\r\n",
        "# @dataclass (자바에서는 annotation) 지원\r\n",
        "from dataclasses import dataclass\r\n",
        "@dataclass\r\n",
        "class Product:\r\n",
        "  weight: int = None\r\n",
        "  price: float = None\r\n",
        "\r\n",
        "apple=Product()\r\n",
        "apple.price=10"
      ],
      "execution_count": null,
      "outputs": []
    },
    {
      "cell_type": "markdown",
      "metadata": {
        "id": "p_nqyD0bKell"
      },
      "source": [
        "### 클래스 pg.63\r\n",
        "- 클래스란 와플 기계같은것.. 틀을 만들어 넣고 안에 속재료를 뭐를 넣냐에 따라 다른 결과물이 나오지만 틀은 같다.\r\n",
        "- 실무에서는 항상 쓰인다. (코테에서는 드뭄)\r\n"
      ]
    },
    {
      "cell_type": "code",
      "metadata": {
        "colab": {
          "base_uri": "https://localhost:8080/"
        },
        "id": "hhcWaquVKqVG",
        "outputId": "b1143773-d100-404b-f106-0d797e22c8ba"
      },
      "source": [
        "from dataclasses import dataclass\r\n",
        "\r\n",
        "@dataclass\r\n",
        "class Rectangle:\r\n",
        "  width:int\r\n",
        "  height:int\r\n",
        "\r\n",
        "  def area(self):\r\n",
        "    return self.width * self.height\r\n",
        "  \r\n",
        "rect= Rectangle(3,4)\r\n",
        "print(rect.area())"
      ],
      "execution_count": null,
      "outputs": [
        {
          "output_type": "stream",
          "text": [
            "12\n"
          ],
          "name": "stdout"
        }
      ]
    },
    {
      "cell_type": "markdown",
      "metadata": {
        "id": "kdSZ5l5j15Q6"
      },
      "source": [
        "# 3장 파이썬\r\n",
        "\r\n",
        "-Executable Pseudocode : 실행가능한 수도코드  \r\n",
        "-> 즉 컴퓨터 언어에 가까운 프로그래밍언어 (ex. C)가 아닌 사람의 언어에 가까운 프로그래밍 언어"
      ]
    },
    {
      "cell_type": "markdown",
      "metadata": {
        "id": "Z2scaj132G7v"
      },
      "source": [
        "## 파이썬 문법"
      ]
    },
    {
      "cell_type": "markdown",
      "metadata": {
        "id": "4WYzjhIB2Jc_"
      },
      "source": [
        "### 인덴트(indent) pg.76\r\n",
        "- 들여쓰기 라는 뜻  \r\n",
        "파이썬 공식 가이드라인  PEP8에따라 **공백 4칸**을 규칙으로 한다.\r\n",
        "- 파이참(개발도구 = IDE)을 이용하면 별도로 신경쓰지 않아도 코딩 가이드를 자동으로 맞춰준다.\r\n",
        "\r\n",
        "**예시**\r\n"
      ]
    },
    {
      "cell_type": "code",
      "metadata": {
        "id": "HDWki9p42MGg"
      },
      "source": [
        "def lonng_function(\r\n",
        "    var_one, var_two, var_three,\r\n",
        "    var_four):\r\n",
        "  print(var_one)\r\n",
        ")\r\n",
        "# 파이참, 주피터 노트북(=코랩과 같은 확장자)등의 개발 도구를 사용하면 자동으로 indent를 맞춰줘서 편하다. "
      ],
      "execution_count": null,
      "outputs": []
    },
    {
      "cell_type": "markdown",
      "metadata": {
        "id": "LjCmW8tH2Pw4"
      },
      "source": [
        "### 네이밍 컨벤션(Naming Convention)\r\n",
        "- 각 단어를 언더바(_)로 구분하여 표기하는 스네이크 케이스(Snake Case)를 따른다.  ex) snake_case , print_number\r\n",
        "-자바(JAVA): 단어별로 대소문자를 구별하여 표기하는 카멜케이스를 따른다.  ex) camelCase, printNumber\r\n",
        "\r\n"
      ]
    },
    {
      "cell_type": "markdown",
      "metadata": {
        "id": "qCFgxz3t2Soy"
      },
      "source": [
        "### 타입 힌트 pg.78\r\n",
        "타입을 지정할 수 있는 타입 힌트가 PEP484 문서에 추가됨  \r\n",
        "ex) 타입힌트 x\r\n",
        "```\r\n",
        "def fn(a):\r\n",
        "    ...\r\n",
        "```\r\n",
        "ex) 타입힌트 사용: 파라미터 a가 정수형이고 리턴값으로 True나 False를 리턴하는구나 를 알 수 있다.\r\n",
        "```\r\n",
        "def fn(a:int) -> bool:\r\n",
        "    ...\r\n",
        "```\r\n",
        "\r\n",
        "* **주의** : 문자열에 정수를 할당하는 방식은 지양!\r\n",
        "```\r\n",
        "a: str=1\r\n",
        "type(a)\r\n",
        "<class 'int'>\r\n",
        "```\r\n",
        "\r\n",
        "\r\n"
      ]
    },
    {
      "cell_type": "markdown",
      "metadata": {
        "id": "2SYT44L42WgS"
      },
      "source": [
        "### List Comprehension (리스트 컴프리헨션) pg.80\r\n",
        "\r\n",
        "- 리스트 컴프리헨션 : 기존 리스트를 기반으로 새로운 리스트를 만들어 내는 구문 (람다표현식보다 가독성이 높다.)\r\n",
        "\r\n",
        "- 람다 표현식: 파이썬은 map, filter와 같은 함수형기능을 지원하며 다음과 같은 람다 표현식(Lambda Expression)도 지원한다.\r\n",
        "\r\n",
        "\r\n"
      ]
    },
    {
      "cell_type": "code",
      "metadata": {
        "colab": {
          "base_uri": "https://localhost:8080/"
        },
        "id": "3UuETiqs2b84",
        "outputId": "e20cd3b3-b52d-45b2-8538-45ef1f0a5f91"
      },
      "source": [
        "#람다 표현식 예시\r\n",
        "list(map(lambda x: x +10, [1,2,3]))"
      ],
      "execution_count": null,
      "outputs": [
        {
          "output_type": "execute_result",
          "data": {
            "text/plain": [
              "[11, 12, 13]"
            ]
          },
          "metadata": {
            "tags": []
          },
          "execution_count": 2
        }
      ]
    },
    {
      "cell_type": "code",
      "metadata": {
        "colab": {
          "base_uri": "https://localhost:8080/"
        },
        "id": "B5qHXKPxA3q2",
        "outputId": "35d1a11c-f45a-4cf0-935c-afd81b9a449f"
      },
      "source": [
        "#리스트 컴프리헨션 예시\r\n",
        "[n*2 for n in range(0,10) if n%2 ==1]"
      ],
      "execution_count": null,
      "outputs": [
        {
          "output_type": "execute_result",
          "data": {
            "text/plain": [
              "[2, 6, 10, 14, 18]"
            ]
          },
          "metadata": {
            "tags": []
          },
          "execution_count": 6
        }
      ]
    },
    {
      "cell_type": "code",
      "metadata": {
        "colab": {
          "base_uri": "https://localhost:8080/"
        },
        "id": "MY-NdwUlBV3L",
        "outputId": "fd6821fa-39c1-4741-fa02-047227205c09"
      },
      "source": [
        "#리스트 컴프리헨션을 사용하지 않을 경우\r\n",
        "a=[]\r\n",
        "for n in range(0,10):\r\n",
        "  if n % 2 == 1:\r\n",
        "    a.append(n*2)\r\n",
        "\r\n",
        "a"
      ],
      "execution_count": null,
      "outputs": [
        {
          "output_type": "execute_result",
          "data": {
            "text/plain": [
              "[2, 6, 10, 14, 18]"
            ]
          },
          "metadata": {
            "tags": []
          },
          "execution_count": 7
        }
      ]
    },
    {
      "cell_type": "code",
      "metadata": {
        "colab": {
          "base_uri": "https://localhost:8080/",
          "height": 189
        },
        "id": "p5JeC1v_BxwC",
        "outputId": "50869625-dfb4-48e4-aeeb-4477ac96a144"
      },
      "source": [
        "#리스트 컴프리헨션: 딕셔너리에 적용\r\n",
        "a2 ={key: value for key, value in original.items()}"
      ],
      "execution_count": null,
      "outputs": [
        {
          "output_type": "error",
          "ename": "NameError",
          "evalue": "ignored",
          "traceback": [
            "\u001b[0;31m---------------------------------------------------------------------------\u001b[0m",
            "\u001b[0;31mNameError\u001b[0m                                 Traceback (most recent call last)",
            "\u001b[0;32m<ipython-input-12-f215619f5ccc>\u001b[0m in \u001b[0;36m<module>\u001b[0;34m()\u001b[0m\n\u001b[1;32m      1\u001b[0m \u001b[0;31m#리스트 컴프리헨션: 딕셔너리에 적용\u001b[0m\u001b[0;34m\u001b[0m\u001b[0;34m\u001b[0m\u001b[0;34m\u001b[0m\u001b[0m\n\u001b[0;32m----> 2\u001b[0;31m \u001b[0ma2\u001b[0m \u001b[0;34m=\u001b[0m\u001b[0;34m{\u001b[0m\u001b[0mkey\u001b[0m\u001b[0;34m:\u001b[0m \u001b[0mvalue\u001b[0m \u001b[0;32mfor\u001b[0m \u001b[0mkey\u001b[0m\u001b[0;34m,\u001b[0m \u001b[0mvalue\u001b[0m \u001b[0;32min\u001b[0m \u001b[0moriginal\u001b[0m\u001b[0;34m.\u001b[0m\u001b[0mitems\u001b[0m\u001b[0;34m(\u001b[0m\u001b[0;34m)\u001b[0m\u001b[0;34m}\u001b[0m\u001b[0;34m\u001b[0m\u001b[0;34m\u001b[0m\u001b[0m\n\u001b[0m",
            "\u001b[0;31mNameError\u001b[0m: name 'original' is not defined"
          ]
        }
      ]
    },
    {
      "cell_type": "markdown",
      "metadata": {
        "id": "Jxxh6auf2cLh"
      },
      "source": [
        "### 제너레이터(Generator) pg.81\r\n",
        "- 루프의 반복(Iteration)동작을 제어할 수 있는 루틴 형태를 말한다. \r\n",
        "\r\n",
        "ex)임의의 조건으로 숫자 1억개를 만들어내 계산하는 프로그램 작성 -> 제너레이터가 없다면 메모리 어딘가에 만들어낸 숫자 1억 개를 보관하고 있어야 한다. \r\n",
        "\r\n",
        "\r\n"
      ]
    },
    {
      "cell_type": "markdown",
      "metadata": {
        "id": "DftENurxupfN"
      },
      "source": [
        "#### yield\r\n",
        "- 제너레이터가 여기까지 실행 중이던 값을 내보낸다는 의미로, 중간값을 리턴한 다음 함수는 종료되지 않고 계속해서 맨 끝에 도달할 때까지 실행된다. "
      ]
    },
    {
      "cell_type": "code",
      "metadata": {
        "id": "j1iwEGYm2djX"
      },
      "source": [
        "def get_natural_number():\r\n",
        "  n=0\r\n",
        "  while True:\r\n",
        "    n += 1\r\n",
        "    yield n"
      ],
      "execution_count": 2,
      "outputs": []
    },
    {
      "cell_type": "code",
      "metadata": {
        "colab": {
          "base_uri": "https://localhost:8080/"
        },
        "id": "b6B5CzR2uKOT",
        "outputId": "7d9bb686-f037-48a1-be77-328356034d6d"
      },
      "source": [
        "get_natural_number()"
      ],
      "execution_count": null,
      "outputs": [
        {
          "output_type": "execute_result",
          "data": {
            "text/plain": [
              "<generator object get_natural_number at 0x7f7fc61fce50>"
            ]
          },
          "metadata": {
            "tags": []
          },
          "execution_count": 2
        }
      ]
    },
    {
      "cell_type": "code",
      "metadata": {
        "id": "vu1CREQuuPsD",
        "colab": {
          "base_uri": "https://localhost:8080/"
        },
        "outputId": "f6713536-ba6e-4539-a8be-d2a7224f7b9c"
      },
      "source": [
        "# 다음 값을 생성하고 싶을 경우 -> next() 추출\r\n",
        "g = get_natural_number()\r\n",
        "for _ in range(0,100):\r\n",
        "  print(next(g))"
      ],
      "execution_count": 3,
      "outputs": [
        {
          "output_type": "stream",
          "text": [
            "1\n",
            "2\n",
            "3\n",
            "4\n",
            "5\n",
            "6\n",
            "7\n",
            "8\n",
            "9\n",
            "10\n",
            "11\n",
            "12\n",
            "13\n",
            "14\n",
            "15\n",
            "16\n",
            "17\n",
            "18\n",
            "19\n",
            "20\n",
            "21\n",
            "22\n",
            "23\n",
            "24\n",
            "25\n",
            "26\n",
            "27\n",
            "28\n",
            "29\n",
            "30\n",
            "31\n",
            "32\n",
            "33\n",
            "34\n",
            "35\n",
            "36\n",
            "37\n",
            "38\n",
            "39\n",
            "40\n",
            "41\n",
            "42\n",
            "43\n",
            "44\n",
            "45\n",
            "46\n",
            "47\n",
            "48\n",
            "49\n",
            "50\n",
            "51\n",
            "52\n",
            "53\n",
            "54\n",
            "55\n",
            "56\n",
            "57\n",
            "58\n",
            "59\n",
            "60\n",
            "61\n",
            "62\n",
            "63\n",
            "64\n",
            "65\n",
            "66\n",
            "67\n",
            "68\n",
            "69\n",
            "70\n",
            "71\n",
            "72\n",
            "73\n",
            "74\n",
            "75\n",
            "76\n",
            "77\n",
            "78\n",
            "79\n",
            "80\n",
            "81\n",
            "82\n",
            "83\n",
            "84\n",
            "85\n",
            "86\n",
            "87\n",
            "88\n",
            "89\n",
            "90\n",
            "91\n",
            "92\n",
            "93\n",
            "94\n",
            "95\n",
            "96\n",
            "97\n",
            "98\n",
            "99\n",
            "100\n"
          ],
          "name": "stdout"
        }
      ]
    },
    {
      "cell_type": "markdown",
      "metadata": {
        "id": "3pspwfOS2dvT"
      },
      "source": [
        "#### range\r\n",
        "- range는 메로리와 생성시간의 효율성 때문에 자주 쓰인다. "
      ]
    },
    {
      "cell_type": "code",
      "metadata": {
        "id": "CWMdM8P_2fp8",
        "colab": {
          "base_uri": "https://localhost:8080/"
        },
        "outputId": "9eb80896-6487-4f4b-b489-b1e174f09d02"
      },
      "source": [
        "list(range(5))"
      ],
      "execution_count": 4,
      "outputs": [
        {
          "output_type": "execute_result",
          "data": {
            "text/plain": [
              "[0, 1, 2, 3, 4]"
            ]
          },
          "metadata": {
            "tags": []
          },
          "execution_count": 4
        }
      ]
    },
    {
      "cell_type": "code",
      "metadata": {
        "id": "zod3tYPhdgjg",
        "colab": {
          "base_uri": "https://localhost:8080/"
        },
        "outputId": "ea4e2626-8d9d-4064-8a39-adffc7c1eb33"
      },
      "source": [
        "range(5)"
      ],
      "execution_count": 5,
      "outputs": [
        {
          "output_type": "execute_result",
          "data": {
            "text/plain": [
              "range(0, 5)"
            ]
          },
          "metadata": {
            "tags": []
          },
          "execution_count": 5
        }
      ]
    },
    {
      "cell_type": "code",
      "metadata": {
        "id": "WyYkKwTPdiQd",
        "colab": {
          "base_uri": "https://localhost:8080/"
        },
        "outputId": "9a279a09-807d-44b5-c66d-93784c0b0764"
      },
      "source": [
        "type(range(5))"
      ],
      "execution_count": 6,
      "outputs": [
        {
          "output_type": "execute_result",
          "data": {
            "text/plain": [
              "range"
            ]
          },
          "metadata": {
            "tags": []
          },
          "execution_count": 6
        }
      ]
    },
    {
      "cell_type": "code",
      "metadata": {
        "id": "jDsNfZxbdlnt",
        "colab": {
          "base_uri": "https://localhost:8080/"
        },
        "outputId": "6ddaa304-417c-4576-ec97-e9993b478a33"
      },
      "source": [
        "for i in range(5):\r\n",
        "  print(i, end='')"
      ],
      "execution_count": 8,
      "outputs": [
        {
          "output_type": "stream",
          "text": [
            "01234"
          ],
          "name": "stdout"
        }
      ]
    },
    {
      "cell_type": "code",
      "metadata": {
        "colab": {
          "base_uri": "https://localhost:8080/"
        },
        "id": "TYDCld6xXrxX",
        "outputId": "8dddf6f0-3e4d-439a-b961-4d63b2c07c1b"
      },
      "source": [
        "import sys\r\n",
        "a = [n for n in range(1000000)]\r\n",
        "sys.getsizeof(a)"
      ],
      "execution_count": 11,
      "outputs": [
        {
          "output_type": "execute_result",
          "data": {
            "text/plain": [
              "8697472"
            ]
          },
          "metadata": {
            "tags": []
          },
          "execution_count": 11
        }
      ]
    },
    {
      "cell_type": "code",
      "metadata": {
        "colab": {
          "base_uri": "https://localhost:8080/"
        },
        "id": "EOXAsytxX0oa",
        "outputId": "7eba960c-6339-4a84-f682-46f596f90f65"
      },
      "source": [
        "b = range(1000000)\r\n",
        "sys.getsizeof(b)"
      ],
      "execution_count": 12,
      "outputs": [
        {
          "output_type": "execute_result",
          "data": {
            "text/plain": [
              "48"
            ]
          },
          "metadata": {
            "tags": []
          },
          "execution_count": 12
        }
      ]
    },
    {
      "cell_type": "markdown",
      "metadata": {
        "id": "l0ErEGiIYVwD"
      },
      "source": [
        "** a 와 b의 메모리 점유율을 비교해보면 b가 훨씬 더 효율적 (= range클래스를 리턴하는 방식)"
      ]
    },
    {
      "cell_type": "markdown",
      "metadata": {
        "id": "YSC8kV1l2f4O"
      },
      "source": [
        "### enumerate: '열거하다' \r\n",
        "- 순서가 있는 자료형(리스트, 튜플,셋) 을 인덱스를 포함한 enumerate 객체로 리턴"
      ]
    },
    {
      "cell_type": "code",
      "metadata": {
        "id": "OiGfFbyS2mHG",
        "colab": {
          "base_uri": "https://localhost:8080/"
        },
        "outputId": "ab0f478a-98a8-45be-fd1e-7659932eaaae"
      },
      "source": [
        "a=[1,2,3,2,45,2,5]\r\n",
        "a"
      ],
      "execution_count": 13,
      "outputs": [
        {
          "output_type": "execute_result",
          "data": {
            "text/plain": [
              "[1, 2, 3, 2, 45, 2, 5]"
            ]
          },
          "metadata": {
            "tags": []
          },
          "execution_count": 13
        }
      ]
    },
    {
      "cell_type": "code",
      "metadata": {
        "colab": {
          "base_uri": "https://localhost:8080/"
        },
        "id": "94Tq6_4qY7ZH",
        "outputId": "1e77653a-1956-45e6-cdfd-453265b9deba"
      },
      "source": [
        "enumerate(a)"
      ],
      "execution_count": 14,
      "outputs": [
        {
          "output_type": "execute_result",
          "data": {
            "text/plain": [
              "<enumerate at 0x7fc08a2f0f50>"
            ]
          },
          "metadata": {
            "tags": []
          },
          "execution_count": 14
        }
      ]
    },
    {
      "cell_type": "code",
      "metadata": {
        "colab": {
          "base_uri": "https://localhost:8080/"
        },
        "id": "U3CayTkLZARE",
        "outputId": "8ab94f0d-57d9-4f73-ac16-e685262cc20b"
      },
      "source": [
        "list(enumerate(a))\r\n",
        "# 인덱스를 자동으로 부여해줘서 편하다."
      ],
      "execution_count": 15,
      "outputs": [
        {
          "output_type": "execute_result",
          "data": {
            "text/plain": [
              "[(0, 1), (1, 2), (2, 3), (3, 2), (4, 45), (5, 2), (6, 5)]"
            ]
          },
          "metadata": {
            "tags": []
          },
          "execution_count": 15
        }
      ]
    },
    {
      "cell_type": "code",
      "metadata": {
        "colab": {
          "base_uri": "https://localhost:8080/"
        },
        "id": "LQg6-53BZJJ2",
        "outputId": "a0795fbb-7eed-49c1-b5e6-0828632d788c"
      },
      "source": [
        "c = ['a1','a2','a3']\r\n",
        "for i, v in enumerate(c):\r\n",
        "  print(i,v)\r\n",
        "#리스트를 인덱스와 값을 함께 출력할 수 있다. "
      ],
      "execution_count": 17,
      "outputs": [
        {
          "output_type": "stream",
          "text": [
            "0 a1\n",
            "1 a2\n",
            "2 a3\n"
          ],
          "name": "stdout"
        }
      ]
    },
    {
      "cell_type": "markdown",
      "metadata": {
        "id": "TzfjwY-i2mUu"
      },
      "source": [
        "### 나눗셈 연산자"
      ]
    },
    {
      "cell_type": "code",
      "metadata": {
        "colab": {
          "base_uri": "https://localhost:8080/"
        },
        "id": "cVZqXV4jZoqi",
        "outputId": "19d700d2-1cd3-4670-f39c-929476bfe1d4"
      },
      "source": [
        "5/3\r\n",
        "# 소숫점 자리까지 나타냄"
      ],
      "execution_count": 18,
      "outputs": [
        {
          "output_type": "execute_result",
          "data": {
            "text/plain": [
              "1.6666666666666667"
            ]
          },
          "metadata": {
            "tags": []
          },
          "execution_count": 18
        }
      ]
    },
    {
      "cell_type": "code",
      "metadata": {
        "colab": {
          "base_uri": "https://localhost:8080/"
        },
        "id": "LJ06SVG6Zo8Z",
        "outputId": "8c658d80-6b71-46c2-cf9d-fc8435b44343"
      },
      "source": [
        "5//3\r\n",
        "#나눗셈의 몫"
      ],
      "execution_count": 19,
      "outputs": [
        {
          "output_type": "execute_result",
          "data": {
            "text/plain": [
              "1"
            ]
          },
          "metadata": {
            "tags": []
          },
          "execution_count": 19
        }
      ]
    },
    {
      "cell_type": "code",
      "metadata": {
        "colab": {
          "base_uri": "https://localhost:8080/"
        },
        "id": "NQTcu722Zo0Q",
        "outputId": "9da1f586-136f-4e41-a929-65cc06d3ea75"
      },
      "source": [
        "5%3\r\n",
        "#나눗셈의 나머지 (5를 3으로 나누면 몫은 1이고 나머지는 2가 남는다.)"
      ],
      "execution_count": 20,
      "outputs": [
        {
          "output_type": "execute_result",
          "data": {
            "text/plain": [
              "2"
            ]
          },
          "metadata": {
            "tags": []
          },
          "execution_count": 20
        }
      ]
    },
    {
      "cell_type": "code",
      "metadata": {
        "colab": {
          "base_uri": "https://localhost:8080/"
        },
        "id": "BYk971-bZ9GA",
        "outputId": "d74bfcd0-8f9f-4096-885b-a5c852e82262"
      },
      "source": [
        "divmod(5,3)\r\n",
        "#몫과 나머지를 한 번에 구할 때"
      ],
      "execution_count": 21,
      "outputs": [
        {
          "output_type": "execute_result",
          "data": {
            "text/plain": [
              "(1, 2)"
            ]
          },
          "metadata": {
            "tags": []
          },
          "execution_count": 21
        }
      ]
    },
    {
      "cell_type": "markdown",
      "metadata": {
        "id": "Bw-4RIkkaMTt"
      },
      "source": [
        "### print: 디버깅에 도움\r\n",
        "- 사실상 디버깅을 위해 제공되는 유일한 기능\r\n",
        "- 구분하는 방법:  \r\n",
        "1) 콤마  \r\n",
        "2) sep  \r\n",
        "3) end: print함수는 항상 줄바꿈을 하는데 end 파라미터를 사용하면 공백으로 처리하여 줄바꿈을 하지 않도록 제한할 수 있다.  \r\n",
        "4) join: 리스트로 출력하고 싶을 때  \r\n",
        "5) f-string"
      ]
    },
    {
      "cell_type": "code",
      "metadata": {
        "id": "yfIVXnSfaL1y"
      },
      "source": [
        "# 콤마\r\n",
        "print('A1',\"B1\")"
      ],
      "execution_count": null,
      "outputs": []
    },
    {
      "cell_type": "code",
      "metadata": {
        "id": "9yXwWQMXa1Sv"
      },
      "source": [
        "# sep\r\n",
        "print('A1',\"B1\",sep=',')"
      ],
      "execution_count": null,
      "outputs": []
    },
    {
      "cell_type": "code",
      "metadata": {
        "colab": {
          "base_uri": "https://localhost:8080/"
        },
        "id": "pcUJ_a6Ya1Cc",
        "outputId": "2f10f485-1dbc-4f1f-9137-f11ad3487a3e"
      },
      "source": [
        "# end\r\n",
        "print('aa',end=' ')\r\n",
        "print('bb')"
      ],
      "execution_count": 22,
      "outputs": [
        {
          "output_type": "stream",
          "text": [
            "aa bb\n"
          ],
          "name": "stdout"
        }
      ]
    },
    {
      "cell_type": "code",
      "metadata": {
        "colab": {
          "base_uri": "https://localhost:8080/"
        },
        "id": "_bz-MZO5bRVw",
        "outputId": "37433789-eaeb-4d17-baab-d58483f7db64"
      },
      "source": [
        "print('aa1')\r\n",
        "print('bb1')\r\n",
        "#위의 end 파라미터의 기능 비교"
      ],
      "execution_count": 23,
      "outputs": [
        {
          "output_type": "stream",
          "text": [
            "aa1\n",
            "bb1\n"
          ],
          "name": "stdout"
        }
      ]
    },
    {
      "cell_type": "code",
      "metadata": {
        "colab": {
          "base_uri": "https://localhost:8080/"
        },
        "id": "wszNcKi3a057",
        "outputId": "c177aeae-e4ad-4ad7-93af-5d2e91026f36"
      },
      "source": [
        "# join\r\n",
        "a4 = ['A','B']\r\n",
        "print(' '.join(a4))"
      ],
      "execution_count": 24,
      "outputs": [
        {
          "output_type": "stream",
          "text": [
            "A B\n"
          ],
          "name": "stdout"
        }
      ]
    },
    {
      "cell_type": "code",
      "metadata": {
        "colab": {
          "base_uri": "https://localhost:8080/"
        },
        "id": "1yTZk-_Wa0s2",
        "outputId": "159de919-d204-4e70-a177-0e2e3b86d9c3"
      },
      "source": [
        "idx=1\r\n",
        "fruit='Apple'\r\n",
        "#idx에 1을 더해서 fruit와 함께 출력하는 방법:\r\n",
        "print('{0}:{1}'.format(idx+1,fruit)) #방법1\r\n",
        "print('{}:{}'.format(idx+1,fruit)) # 방법2\r\n",
        "print(f'{idx+1}:{fruit}') #방법3 = f-string 방식 (기존의 %나 .format 방식 보다 훨씩 간결하고 직관적이고 속도도 빠르다.)"
      ],
      "execution_count": 27,
      "outputs": [
        {
          "output_type": "stream",
          "text": [
            "2:Apple\n",
            "2:Apple\n",
            "2:Apple\n"
          ],
          "name": "stdout"
        }
      ]
    },
    {
      "cell_type": "markdown",
      "metadata": {
        "id": "8WlgVBtpcb97"
      },
      "source": [
        "### pass\r\n",
        "- null 연산으로 아무것도 하지 않는 기능\r\n",
        "- 온라인 코딩 테스트에서 유용하게 활용"
      ]
    },
    {
      "cell_type": "code",
      "metadata": {
        "colab": {
          "base_uri": "https://localhost:8080/",
          "height": 133
        },
        "id": "87jK7bzycbwI",
        "outputId": "f8ef3333-5e07-4d98-9c41-278ac8b19e09"
      },
      "source": [
        "class MyClass(object):\r\n",
        "  def method_a(self):\r\n",
        "\r\n",
        "  def method_b(self):\r\n",
        "    print(\"Method B\")\r\n",
        "\r\n",
        "c = MyClass\r\n",
        "\r\n",
        "#IndentationError: expected an indented block가 발생"
      ],
      "execution_count": 28,
      "outputs": [
        {
          "output_type": "error",
          "ename": "IndentationError",
          "evalue": "ignored",
          "traceback": [
            "\u001b[0;36m  File \u001b[0;32m\"<ipython-input-28-6705ca1ca8e0>\"\u001b[0;36m, line \u001b[0;32m4\u001b[0m\n\u001b[0;31m    def method_b(self):\u001b[0m\n\u001b[0m      ^\u001b[0m\n\u001b[0;31mIndentationError\u001b[0m\u001b[0;31m:\u001b[0m expected an indented block\n"
          ]
        }
      ]
    },
    {
      "cell_type": "code",
      "metadata": {
        "id": "_WUqu7Bvc8et"
      },
      "source": [
        "class MyClass(object):\r\n",
        "  def method_a(self):\r\n",
        "    pass # 여기에 pass를 추가하면 인덴트 오류 처럼 불필요한 오류 방기\r\n",
        "\r\n",
        "  def method_b(self):\r\n",
        "    print(\"Method B\")\r\n",
        "\r\n",
        "c = MyClass\r\n",
        "\r\n",
        "#IndentationError: expected an indented block가 발생"
      ],
      "execution_count": 29,
      "outputs": []
    },
    {
      "cell_type": "markdown",
      "metadata": {
        "id": "ezco6yBldMS0"
      },
      "source": [
        "### locals: 디버깅에 유용\r\n",
        "- 로컬 심볼 데이트 딕셔너리를 가져온느 메소드\r\n",
        "- 업데이트도 가능\r\n",
        "- 로컬에 선언된 모든 변수를 조회할 수 있는 강력한 명령으로 디버깅에 도움이 된다. "
      ]
    },
    {
      "cell_type": "code",
      "metadata": {
        "colab": {
          "base_uri": "https://localhost:8080/"
        },
        "id": "Xzt0Lqp3dLgF",
        "outputId": "45df5ce3-58de-4c0d-e93f-144d2e74180e"
      },
      "source": [
        "# locals 불러오기 방법\r\n",
        "import pprint\r\n",
        "pprint.pprint(locals())"
      ],
      "execution_count": 30,
      "outputs": [
        {
          "output_type": "stream",
          "text": [
            "{'In': ['',\n",
            "        '# 다음 값을 생성하고 싶을 경우 -> next() 추출\\n'\n",
            "        'g = get_natural_number()\\n'\n",
            "        'for _ in range(0,100):\\n'\n",
            "        '  print(next(g))',\n",
            "        'def get_natural_number():\\n'\n",
            "        '  n=0\\n'\n",
            "        '  while True:\\n'\n",
            "        '    n += 1\\n'\n",
            "        '    yield n',\n",
            "        '# 다음 값을 생성하고 싶을 경우 -> next() 추출\\n'\n",
            "        'g = get_natural_number()\\n'\n",
            "        'for _ in range(0,100):\\n'\n",
            "        '  print(next(g))',\n",
            "        'list(range(5))',\n",
            "        'range(5)',\n",
            "        'type(range(5))',\n",
            "        \"for in range(5):\\n  print(i, end='')\",\n",
            "        \"for i in range(5):\\n  print(i, end='')\",\n",
            "        'a = [n for n in range(1000000)]\\nsys.getsizeof(a)',\n",
            "        'b = range(1000000)\\nsys.getsizeof(b)',\n",
            "        'import sys\\na = [n for n in range(1000000)]\\nsys.getsizeof(a)',\n",
            "        'b = range(1000000)\\nsys.getsizeof(b)',\n",
            "        'a=[1,2,3,2,45,2,5]\\na',\n",
            "        'enumerate(a)',\n",
            "        'list(enumerate(a))',\n",
            "        \"c = ['a1','a2','a3']\\nfor i, v in enumerate(a):\\n  print(i,v)\",\n",
            "        \"c = ['a1','a2','a3']\\nfor i, v in enumerate(c):\\n  print(i,v)\",\n",
            "        '5/3',\n",
            "        '5//3',\n",
            "        '5%3',\n",
            "        'divmod(5,3)',\n",
            "        \"# end\\nprint('aa',end=' ')\\nprint('bb')\",\n",
            "        \"print('aa1')\\nprint('bb1')\",\n",
            "        \"# join\\na4 = ['A','B']\\nprint(' '.join(a4))\",\n",
            "        'idx=1\\n'\n",
            "        \"fruit='Apple'\\n\"\n",
            "        '#idx에 1을 더해서 fruit와 함께 출력하는 방법:\\n'\n",
            "        \"print('{0}:{1}'.format(idx+1,fruit))\",\n",
            "        'idx=1\\n'\n",
            "        \"fruit='Apple'\\n\"\n",
            "        '#idx에 1을 더해서 fruit와 함께 출력하는 방법:\\n'\n",
            "        \"print('{0}:{1}'.format(idx+1,fruit)) #방법1\\n\"\n",
            "        \"print('{}:{}'.format(idx+1,fruit)) # 방법2\",\n",
            "        'idx=1\\n'\n",
            "        \"fruit='Apple'\\n\"\n",
            "        '#idx에 1을 더해서 fruit와 함께 출력하는 방법:\\n'\n",
            "        \"print('{0}:{1}'.format(idx+1,fruit)) #방법1\\n\"\n",
            "        \"print('{}:{}'.format(idx+1,fruit)) # 방법2\\n\"\n",
            "        \"print(f'{idx+1}:{fruit}')\",\n",
            "        'class MyClass(object):\\n'\n",
            "        '  def method_a(self):\\n'\n",
            "        '\\n'\n",
            "        '  def method_b(self):\\n'\n",
            "        '    print(\"Method B\")\\n'\n",
            "        '\\n'\n",
            "        'c = MyClass',\n",
            "        'class MyClass(object):\\n'\n",
            "        '  def method_a(self):\\n'\n",
            "        '    pass\\n'\n",
            "        '\\n'\n",
            "        '  def method_b(self):\\n'\n",
            "        '    print(\"Method B\")\\n'\n",
            "        '\\n'\n",
            "        'c = MyClass\\n'\n",
            "        '\\n'\n",
            "        '#IndentationError: expected an indented block가 발생',\n",
            "        'import pprint\\npprint.pprint(locals())'],\n",
            " 'MyClass': <class '__main__.MyClass'>,\n",
            " 'Out': {4: [0, 1, 2, 3, 4],\n",
            "         5: range(0, 5),\n",
            "         6: <class 'range'>,\n",
            "         11: 8697472,\n",
            "         12: 48,\n",
            "         13: [1, 2, 3, 2, 45, 2, 5],\n",
            "         14: <enumerate object at 0x7fc08a2f0f50>,\n",
            "         15: [(0, 1), (1, 2), (2, 3), (3, 2), (4, 45), (5, 2), (6, 5)],\n",
            "         18: 1.6666666666666667,\n",
            "         19: 1,\n",
            "         20: 2,\n",
            "         21: (1, 2)},\n",
            " '_': (1, 2),\n",
            " '_11': 8697472,\n",
            " '_12': 48,\n",
            " '_13': [1, 2, 3, 2, 45, 2, 5],\n",
            " '_14': <enumerate object at 0x7fc08a2f0f50>,\n",
            " '_15': [(0, 1), (1, 2), (2, 3), (3, 2), (4, 45), (5, 2), (6, 5)],\n",
            " '_18': 1.6666666666666667,\n",
            " '_19': 1,\n",
            " '_20': 2,\n",
            " '_21': (1, 2),\n",
            " '_4': [0, 1, 2, 3, 4],\n",
            " '_5': range(0, 5),\n",
            " '_6': <class 'range'>,\n",
            " '__': 2,\n",
            " '___': 1,\n",
            " '__builtin__': <module 'builtins' (built-in)>,\n",
            " '__builtins__': <module 'builtins' (built-in)>,\n",
            " '__doc__': 'Automatically created module for IPython interactive environment',\n",
            " '__loader__': None,\n",
            " '__name__': '__main__',\n",
            " '__package__': None,\n",
            " '__spec__': None,\n",
            " '_dh': ['/content'],\n",
            " '_i': 'class MyClass(object):\\n'\n",
            "       '  def method_a(self):\\n'\n",
            "       '    pass\\n'\n",
            "       '\\n'\n",
            "       '  def method_b(self):\\n'\n",
            "       '    print(\"Method B\")\\n'\n",
            "       '\\n'\n",
            "       'c = MyClass\\n'\n",
            "       '\\n'\n",
            "       '#IndentationError: expected an indented block가 발생',\n",
            " '_i1': '# 다음 값을 생성하고 싶을 경우 -> next() 추출\\n'\n",
            "        'g = get_natural_number()\\n'\n",
            "        'for _ in range(0,100):\\n'\n",
            "        '  print(next(g))',\n",
            " '_i10': 'b = range(1000000)\\nsys.getsizeof(b)',\n",
            " '_i11': 'import sys\\na = [n for n in range(1000000)]\\nsys.getsizeof(a)',\n",
            " '_i12': 'b = range(1000000)\\nsys.getsizeof(b)',\n",
            " '_i13': 'a=[1,2,3,2,45,2,5]\\na',\n",
            " '_i14': 'enumerate(a)',\n",
            " '_i15': 'list(enumerate(a))',\n",
            " '_i16': \"c = ['a1','a2','a3']\\nfor i, v in enumerate(a):\\n  print(i,v)\",\n",
            " '_i17': \"c = ['a1','a2','a3']\\nfor i, v in enumerate(c):\\n  print(i,v)\",\n",
            " '_i18': '5/3',\n",
            " '_i19': '5//3',\n",
            " '_i2': 'def get_natural_number():\\n'\n",
            "        '  n=0\\n'\n",
            "        '  while True:\\n'\n",
            "        '    n += 1\\n'\n",
            "        '    yield n',\n",
            " '_i20': '5%3',\n",
            " '_i21': 'divmod(5,3)',\n",
            " '_i22': \"# end\\nprint('aa',end=' ')\\nprint('bb')\",\n",
            " '_i23': \"print('aa1')\\nprint('bb1')\",\n",
            " '_i24': \"# join\\na4 = ['A','B']\\nprint(' '.join(a4))\",\n",
            " '_i25': 'idx=1\\n'\n",
            "         \"fruit='Apple'\\n\"\n",
            "         '#idx에 1을 더해서 fruit와 함께 출력하는 방법:\\n'\n",
            "         \"print('{0}:{1}'.format(idx+1,fruit))\",\n",
            " '_i26': 'idx=1\\n'\n",
            "         \"fruit='Apple'\\n\"\n",
            "         '#idx에 1을 더해서 fruit와 함께 출력하는 방법:\\n'\n",
            "         \"print('{0}:{1}'.format(idx+1,fruit)) #방법1\\n\"\n",
            "         \"print('{}:{}'.format(idx+1,fruit)) # 방법2\",\n",
            " '_i27': 'idx=1\\n'\n",
            "         \"fruit='Apple'\\n\"\n",
            "         '#idx에 1을 더해서 fruit와 함께 출력하는 방법:\\n'\n",
            "         \"print('{0}:{1}'.format(idx+1,fruit)) #방법1\\n\"\n",
            "         \"print('{}:{}'.format(idx+1,fruit)) # 방법2\\n\"\n",
            "         \"print(f'{idx+1}:{fruit}')\",\n",
            " '_i28': 'class MyClass(object):\\n'\n",
            "         '  def method_a(self):\\n'\n",
            "         '\\n'\n",
            "         '  def method_b(self):\\n'\n",
            "         '    print(\"Method B\")\\n'\n",
            "         '\\n'\n",
            "         'c = MyClass',\n",
            " '_i29': 'class MyClass(object):\\n'\n",
            "         '  def method_a(self):\\n'\n",
            "         '    pass\\n'\n",
            "         '\\n'\n",
            "         '  def method_b(self):\\n'\n",
            "         '    print(\"Method B\")\\n'\n",
            "         '\\n'\n",
            "         'c = MyClass\\n'\n",
            "         '\\n'\n",
            "         '#IndentationError: expected an indented block가 발생',\n",
            " '_i3': '# 다음 값을 생성하고 싶을 경우 -> next() 추출\\n'\n",
            "        'g = get_natural_number()\\n'\n",
            "        'for _ in range(0,100):\\n'\n",
            "        '  print(next(g))',\n",
            " '_i30': 'import pprint\\npprint.pprint(locals())',\n",
            " '_i4': 'list(range(5))',\n",
            " '_i5': 'range(5)',\n",
            " '_i6': 'type(range(5))',\n",
            " '_i7': \"for in range(5):\\n  print(i, end='')\",\n",
            " '_i8': \"for i in range(5):\\n  print(i, end='')\",\n",
            " '_i9': 'a = [n for n in range(1000000)]\\nsys.getsizeof(a)',\n",
            " '_ih': ['',\n",
            "         '# 다음 값을 생성하고 싶을 경우 -> next() 추출\\n'\n",
            "         'g = get_natural_number()\\n'\n",
            "         'for _ in range(0,100):\\n'\n",
            "         '  print(next(g))',\n",
            "         'def get_natural_number():\\n'\n",
            "         '  n=0\\n'\n",
            "         '  while True:\\n'\n",
            "         '    n += 1\\n'\n",
            "         '    yield n',\n",
            "         '# 다음 값을 생성하고 싶을 경우 -> next() 추출\\n'\n",
            "         'g = get_natural_number()\\n'\n",
            "         'for _ in range(0,100):\\n'\n",
            "         '  print(next(g))',\n",
            "         'list(range(5))',\n",
            "         'range(5)',\n",
            "         'type(range(5))',\n",
            "         \"for in range(5):\\n  print(i, end='')\",\n",
            "         \"for i in range(5):\\n  print(i, end='')\",\n",
            "         'a = [n for n in range(1000000)]\\nsys.getsizeof(a)',\n",
            "         'b = range(1000000)\\nsys.getsizeof(b)',\n",
            "         'import sys\\na = [n for n in range(1000000)]\\nsys.getsizeof(a)',\n",
            "         'b = range(1000000)\\nsys.getsizeof(b)',\n",
            "         'a=[1,2,3,2,45,2,5]\\na',\n",
            "         'enumerate(a)',\n",
            "         'list(enumerate(a))',\n",
            "         \"c = ['a1','a2','a3']\\nfor i, v in enumerate(a):\\n  print(i,v)\",\n",
            "         \"c = ['a1','a2','a3']\\nfor i, v in enumerate(c):\\n  print(i,v)\",\n",
            "         '5/3',\n",
            "         '5//3',\n",
            "         '5%3',\n",
            "         'divmod(5,3)',\n",
            "         \"# end\\nprint('aa',end=' ')\\nprint('bb')\",\n",
            "         \"print('aa1')\\nprint('bb1')\",\n",
            "         \"# join\\na4 = ['A','B']\\nprint(' '.join(a4))\",\n",
            "         'idx=1\\n'\n",
            "         \"fruit='Apple'\\n\"\n",
            "         '#idx에 1을 더해서 fruit와 함께 출력하는 방법:\\n'\n",
            "         \"print('{0}:{1}'.format(idx+1,fruit))\",\n",
            "         'idx=1\\n'\n",
            "         \"fruit='Apple'\\n\"\n",
            "         '#idx에 1을 더해서 fruit와 함께 출력하는 방법:\\n'\n",
            "         \"print('{0}:{1}'.format(idx+1,fruit)) #방법1\\n\"\n",
            "         \"print('{}:{}'.format(idx+1,fruit)) # 방법2\",\n",
            "         'idx=1\\n'\n",
            "         \"fruit='Apple'\\n\"\n",
            "         '#idx에 1을 더해서 fruit와 함께 출력하는 방법:\\n'\n",
            "         \"print('{0}:{1}'.format(idx+1,fruit)) #방법1\\n\"\n",
            "         \"print('{}:{}'.format(idx+1,fruit)) # 방법2\\n\"\n",
            "         \"print(f'{idx+1}:{fruit}')\",\n",
            "         'class MyClass(object):\\n'\n",
            "         '  def method_a(self):\\n'\n",
            "         '\\n'\n",
            "         '  def method_b(self):\\n'\n",
            "         '    print(\"Method B\")\\n'\n",
            "         '\\n'\n",
            "         'c = MyClass',\n",
            "         'class MyClass(object):\\n'\n",
            "         '  def method_a(self):\\n'\n",
            "         '    pass\\n'\n",
            "         '\\n'\n",
            "         '  def method_b(self):\\n'\n",
            "         '    print(\"Method B\")\\n'\n",
            "         '\\n'\n",
            "         'c = MyClass\\n'\n",
            "         '\\n'\n",
            "         '#IndentationError: expected an indented block가 발생',\n",
            "         'import pprint\\npprint.pprint(locals())'],\n",
            " '_ii': 'class MyClass(object):\\n'\n",
            "        '  def method_a(self):\\n'\n",
            "        '\\n'\n",
            "        '  def method_b(self):\\n'\n",
            "        '    print(\"Method B\")\\n'\n",
            "        '\\n'\n",
            "        'c = MyClass',\n",
            " '_iii': 'idx=1\\n'\n",
            "         \"fruit='Apple'\\n\"\n",
            "         '#idx에 1을 더해서 fruit와 함께 출력하는 방법:\\n'\n",
            "         \"print('{0}:{1}'.format(idx+1,fruit)) #방법1\\n\"\n",
            "         \"print('{}:{}'.format(idx+1,fruit)) # 방법2\\n\"\n",
            "         \"print(f'{idx+1}:{fruit}')\",\n",
            " '_oh': {4: [0, 1, 2, 3, 4],\n",
            "         5: range(0, 5),\n",
            "         6: <class 'range'>,\n",
            "         11: 8697472,\n",
            "         12: 48,\n",
            "         13: [1, 2, 3, 2, 45, 2, 5],\n",
            "         14: <enumerate object at 0x7fc08a2f0f50>,\n",
            "         15: [(0, 1), (1, 2), (2, 3), (3, 2), (4, 45), (5, 2), (6, 5)],\n",
            "         18: 1.6666666666666667,\n",
            "         19: 1,\n",
            "         20: 2,\n",
            "         21: (1, 2)},\n",
            " '_sh': <module 'IPython.core.shadowns' from '/usr/local/lib/python3.7/dist-packages/IPython/core/shadowns.py'>,\n",
            " 'a': [1, 2, 3, 2, 45, 2, 5],\n",
            " 'a4': ['A', 'B'],\n",
            " 'b': range(0, 1000000),\n",
            " 'c': <class '__main__.MyClass'>,\n",
            " 'exit': <IPython.core.autocall.ZMQExitAutocall object at 0x7fc0938d9510>,\n",
            " 'fruit': 'Apple',\n",
            " 'g': <generator object get_natural_number at 0x7fc090a371d0>,\n",
            " 'get_ipython': <bound method InteractiveShell.get_ipython of <google.colab._shell.Shell object at 0x7fc096138210>>,\n",
            " 'get_natural_number': <function get_natural_number at 0x7fc090a30320>,\n",
            " 'i': 2,\n",
            " 'idx': 1,\n",
            " 'pprint': <module 'pprint' from '/usr/lib/python3.7/pprint.py'>,\n",
            " 'quit': <IPython.core.autocall.ZMQExitAutocall object at 0x7fc0938d9510>,\n",
            " 'sys': <module 'sys' (built-in)>,\n",
            " 'v': 'a3'}\n"
          ],
          "name": "stdout"
        }
      ]
    },
    {
      "cell_type": "markdown",
      "metadata": {
        "id": "Bpmvm1hb3nfN"
      },
      "source": [
        "## 코딩 스타일 pg.90\r\n",
        "- 좋은 코드에 정답은 없지만 선호하는 방식은 있다. \r\n",
        "- 클린코드, 프로그래밍 수련법 이라는 책 2권 추천됨"
      ]
    },
    {
      "cell_type": "markdown",
      "metadata": {
        "id": "qMY-nLwU3qRF"
      },
      "source": [
        "### 변수명과 주석\r\n",
        "- 변수명이 무엇을 의미하는지 (스네이크 방식)\r\n",
        "- 알고리즘에 대한 주석은 되도록이면 영어로 달기( 좀더 프로페셔널해 보인다.)"
      ]
    },
    {
      "cell_type": "code",
      "metadata": {
        "id": "JPdqZSxu3sa8",
        "colab": {
          "base_uri": "https://localhost:8080/",
          "height": 238
        },
        "outputId": "ea70362a-2e41-4e5b-e36a-e0ca0dbe0b7e"
      },
      "source": [
        "def numMatchingSubseq(self, S:str, words: List[str]) -> int:\r\n",
        "  a=0\r\n",
        "\r\n",
        "  for b in words:\r\n",
        "    c=0\r\n",
        "    for i in range(len(b)):\r\n",
        "      d=S[c:].find(b[i])\r\n",
        "      if d <0:\r\n",
        "        a -= 1\r\n",
        "        break\r\n",
        "      else:\r\n",
        "        c += d+ 1\r\n",
        "    a += 1\r\n",
        "  return a"
      ],
      "execution_count": 34,
      "outputs": [
        {
          "output_type": "error",
          "ename": "NameError",
          "evalue": "ignored",
          "traceback": [
            "\u001b[0;31m---------------------------------------------------------------------------\u001b[0m",
            "\u001b[0;31mNameError\u001b[0m                                 Traceback (most recent call last)",
            "\u001b[0;32m<ipython-input-34-cab1dc87c180>\u001b[0m in \u001b[0;36m<module>\u001b[0;34m()\u001b[0m\n\u001b[0;32m----> 1\u001b[0;31m \u001b[0;32mdef\u001b[0m \u001b[0mnumMatchingSubseq\u001b[0m\u001b[0;34m(\u001b[0m\u001b[0mself\u001b[0m\u001b[0;34m,\u001b[0m \u001b[0mS\u001b[0m\u001b[0;34m:\u001b[0m\u001b[0mstr\u001b[0m\u001b[0;34m,\u001b[0m \u001b[0mwords\u001b[0m\u001b[0;34m:\u001b[0m \u001b[0mList\u001b[0m\u001b[0;34m[\u001b[0m\u001b[0mstr\u001b[0m\u001b[0;34m]\u001b[0m\u001b[0;34m)\u001b[0m \u001b[0;34m->\u001b[0m \u001b[0mint\u001b[0m\u001b[0;34m:\u001b[0m\u001b[0;34m\u001b[0m\u001b[0;34m\u001b[0m\u001b[0m\n\u001b[0m\u001b[1;32m      2\u001b[0m   \u001b[0ma\u001b[0m\u001b[0;34m=\u001b[0m\u001b[0;36m0\u001b[0m\u001b[0;34m\u001b[0m\u001b[0;34m\u001b[0m\u001b[0m\n\u001b[1;32m      3\u001b[0m \u001b[0;34m\u001b[0m\u001b[0m\n\u001b[1;32m      4\u001b[0m   \u001b[0;32mfor\u001b[0m \u001b[0mb\u001b[0m \u001b[0;32min\u001b[0m \u001b[0mwords\u001b[0m\u001b[0;34m:\u001b[0m\u001b[0;34m\u001b[0m\u001b[0;34m\u001b[0m\u001b[0m\n\u001b[1;32m      5\u001b[0m     \u001b[0mc\u001b[0m\u001b[0;34m=\u001b[0m\u001b[0;36m0\u001b[0m\u001b[0;34m\u001b[0m\u001b[0;34m\u001b[0m\u001b[0m\n",
            "\u001b[0;31mNameError\u001b[0m: name 'List' is not defined"
          ]
        }
      ]
    },
    {
      "cell_type": "code",
      "metadata": {
        "colab": {
          "base_uri": "https://localhost:8080/",
          "height": 238
        },
        "id": "kH72jAr1ee5p",
        "outputId": "29423711-c47f-422e-f6a0-5c28a59a099d"
      },
      "source": [
        "def numMatchingSubseq(self, S:str, words: List[str]) -> int:\r\n",
        "  matched_count=0\r\n",
        "\r\n",
        "  for word in words:\r\n",
        "    pos=0\r\n",
        "    for i in range(len(word)):\r\n",
        "      # Find matching position for each character.\r\n",
        "      found_pos=S[pos:].find(word[i])\r\n",
        "      if found_pos <0:\r\n",
        "        matched_count -= 1\r\n",
        "        break\r\n",
        "      else:#If found, take step position forward.\r\n",
        "        pos += found_pos + 1\r\n",
        "    matched_count += 1\r\n",
        "  return matched_coun"
      ],
      "execution_count": 33,
      "outputs": [
        {
          "output_type": "error",
          "ename": "NameError",
          "evalue": "ignored",
          "traceback": [
            "\u001b[0;31m---------------------------------------------------------------------------\u001b[0m",
            "\u001b[0;31mNameError\u001b[0m                                 Traceback (most recent call last)",
            "\u001b[0;32m<ipython-input-33-47241e50e4f8>\u001b[0m in \u001b[0;36m<module>\u001b[0;34m()\u001b[0m\n\u001b[0;32m----> 1\u001b[0;31m \u001b[0;32mdef\u001b[0m \u001b[0mnumMatchingSubseq\u001b[0m\u001b[0;34m(\u001b[0m\u001b[0mself\u001b[0m\u001b[0;34m,\u001b[0m \u001b[0mS\u001b[0m\u001b[0;34m:\u001b[0m\u001b[0mstr\u001b[0m\u001b[0;34m,\u001b[0m \u001b[0mwords\u001b[0m\u001b[0;34m:\u001b[0m \u001b[0mList\u001b[0m\u001b[0;34m[\u001b[0m\u001b[0mstr\u001b[0m\u001b[0;34m]\u001b[0m\u001b[0;34m)\u001b[0m \u001b[0;34m->\u001b[0m \u001b[0mint\u001b[0m\u001b[0;34m:\u001b[0m\u001b[0;34m\u001b[0m\u001b[0;34m\u001b[0m\u001b[0m\n\u001b[0m\u001b[1;32m      2\u001b[0m   \u001b[0mmatched_count\u001b[0m\u001b[0;34m=\u001b[0m\u001b[0;36m0\u001b[0m\u001b[0;34m\u001b[0m\u001b[0;34m\u001b[0m\u001b[0m\n\u001b[1;32m      3\u001b[0m \u001b[0;34m\u001b[0m\u001b[0m\n\u001b[1;32m      4\u001b[0m   \u001b[0;32mfor\u001b[0m \u001b[0mword\u001b[0m \u001b[0;32min\u001b[0m \u001b[0mwords\u001b[0m\u001b[0;34m:\u001b[0m\u001b[0;34m\u001b[0m\u001b[0;34m\u001b[0m\u001b[0m\n\u001b[1;32m      5\u001b[0m     \u001b[0mpos\u001b[0m\u001b[0;34m=\u001b[0m\u001b[0;36m0\u001b[0m\u001b[0;34m\u001b[0m\u001b[0;34m\u001b[0m\u001b[0m\n",
            "\u001b[0;31mNameError\u001b[0m: name 'List' is not defined"
          ]
        }
      ]
    },
    {
      "cell_type": "markdown",
      "metadata": {
        "id": "eFDznrMCgqmX"
      },
      "source": [
        "### 리스트 컴프리헨션\r\n",
        "- 파이썬을 대표하는 기능중에 하나 \r\n",
        "- 줄여쓸 수 있는 문법과 의미를 축약하여 나타내는 특징\r\n",
        "- 가독성이 떨어질 수 있으므로 줄 띄어쓰기 중요 **(역할별로 줄 구분!)**"
      ]
    },
    {
      "cell_type": "code",
      "metadata": {
        "colab": {
          "base_uri": "https://localhost:8080/",
          "height": 168
        },
        "id": "Xlczd1DshEyl",
        "outputId": "2e37871a-5d06-4a86-a9b4-05232e57d8ca"
      },
      "source": [
        "strls =[str1[i:i + 2].lower() for i in range(len(str1)-1) if re.findall('[a-z]{2}', str1[i:i+2].lower())]\r\n",
        "# 다음과 같은 방식은 가독성을 떨어트린다."
      ],
      "execution_count": 35,
      "outputs": [
        {
          "output_type": "error",
          "ename": "NameError",
          "evalue": "ignored",
          "traceback": [
            "\u001b[0;31m---------------------------------------------------------------------------\u001b[0m",
            "\u001b[0;31mNameError\u001b[0m                                 Traceback (most recent call last)",
            "\u001b[0;32m<ipython-input-35-bb862ce21afe>\u001b[0m in \u001b[0;36m<module>\u001b[0;34m()\u001b[0m\n\u001b[0;32m----> 1\u001b[0;31m \u001b[0mstrls\u001b[0m \u001b[0;34m=\u001b[0m\u001b[0;34m[\u001b[0m\u001b[0mstr1\u001b[0m\u001b[0;34m[\u001b[0m\u001b[0mi\u001b[0m\u001b[0;34m:\u001b[0m\u001b[0mi\u001b[0m \u001b[0;34m+\u001b[0m \u001b[0;36m2\u001b[0m\u001b[0;34m]\u001b[0m\u001b[0;34m.\u001b[0m\u001b[0mlower\u001b[0m\u001b[0;34m(\u001b[0m\u001b[0;34m)\u001b[0m \u001b[0;32mfor\u001b[0m \u001b[0mi\u001b[0m \u001b[0;32min\u001b[0m \u001b[0mrange\u001b[0m\u001b[0;34m(\u001b[0m\u001b[0mlen\u001b[0m\u001b[0;34m(\u001b[0m\u001b[0mstr1\u001b[0m\u001b[0;34m)\u001b[0m\u001b[0;34m-\u001b[0m\u001b[0;36m1\u001b[0m\u001b[0;34m)\u001b[0m \u001b[0;32mif\u001b[0m \u001b[0mre\u001b[0m\u001b[0;34m.\u001b[0m\u001b[0mfindall\u001b[0m\u001b[0;34m(\u001b[0m\u001b[0;34m'[a-z]{2}'\u001b[0m\u001b[0;34m,\u001b[0m \u001b[0mstr1\u001b[0m\u001b[0;34m[\u001b[0m\u001b[0mi\u001b[0m\u001b[0;34m:\u001b[0m\u001b[0mi\u001b[0m\u001b[0;34m+\u001b[0m\u001b[0;36m2\u001b[0m\u001b[0;34m]\u001b[0m\u001b[0;34m.\u001b[0m\u001b[0mlower\u001b[0m\u001b[0;34m(\u001b[0m\u001b[0;34m)\u001b[0m\u001b[0;34m)\u001b[0m\u001b[0;34m]\u001b[0m\u001b[0;34m\u001b[0m\u001b[0;34m\u001b[0m\u001b[0m\n\u001b[0m",
            "\u001b[0;31mNameError\u001b[0m: name 'str1' is not defined"
          ]
        }
      ]
    },
    {
      "cell_type": "code",
      "metadata": {
        "id": "YJXGIONdhFEn"
      },
      "source": [
        "strls = []\r\n",
        "for i in range(len(str1)-1):\r\n",
        "  if re.findall('[a-z]{2}', str1[i:i+2].lower()):\r\n",
        "    strls.append(str1[i:i + 2].lower())"
      ],
      "execution_count": null,
      "outputs": []
    },
    {
      "cell_type": "markdown",
      "metadata": {
        "id": "FUAKGGeDiM1y"
      },
      "source": [
        "### 구글 파이썬 스타일 가이드\r\n",
        "1. 함수의 기본 값으로 가변객체(mutable object) 사용 x : 함수가 객체를 수정하면(리스트에 아이템 추가 등) 기본값이 변경되기 때문   \r\n",
        "ex) 아래와 같은 방식 지양!\r\n",
        "```\r\n",
        "def foo(a, b=[]):\r\n",
        "```\r\n",
        "2. 대신 불변 객체를 사용 : None을 명시적으로 할당\r\n",
        "ex)\r\n",
        "```\r\n",
        "def foo(a, b=None):\r\n",
        "  if b is None:\r\n",
        "    b=[]\r\n",
        "```\r\n",
        "3. True, False를 판별할 때는 암시적인 방법 사용\r\n",
        "4. 가로길이는 80자로 제한"
      ]
    },
    {
      "cell_type": "markdown",
      "metadata": {
        "id": "2LZEIccs3sll"
      },
      "source": [
        "# 4장 빅오, 자료형"
      ]
    }
  ]
}